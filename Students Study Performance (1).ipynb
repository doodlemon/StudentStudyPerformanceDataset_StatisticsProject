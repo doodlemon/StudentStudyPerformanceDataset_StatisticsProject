{
 "cells": [
  {
   "cell_type": "markdown",
   "id": "782d6412-b208-4b56-a460-b29f405ac2b4",
   "metadata": {},
   "source": [
    "<span style=\"font-size: 32pt; font-weight: bold; color:orchid\">Student Study Performance</span>"
   ]
  },
  {
   "cell_type": "code",
   "execution_count": 119,
   "id": "975187b3-1c32-4a52-8fc6-5eac24864833",
   "metadata": {},
   "outputs": [
    {
     "data": {
      "text/html": [
       "<div>\n",
       "<style scoped>\n",
       "    .dataframe tbody tr th:only-of-type {\n",
       "        vertical-align: middle;\n",
       "    }\n",
       "\n",
       "    .dataframe tbody tr th {\n",
       "        vertical-align: top;\n",
       "    }\n",
       "\n",
       "    .dataframe thead th {\n",
       "        text-align: right;\n",
       "    }\n",
       "</style>\n",
       "<table border=\"1\" class=\"dataframe\">\n",
       "  <thead>\n",
       "    <tr style=\"text-align: right;\">\n",
       "      <th></th>\n",
       "      <th>gender</th>\n",
       "      <th>race_ethnicity</th>\n",
       "      <th>parental_level_of_education</th>\n",
       "      <th>lunch</th>\n",
       "      <th>test_preparation_course</th>\n",
       "      <th>math_score</th>\n",
       "      <th>reading_score</th>\n",
       "      <th>writing_score</th>\n",
       "    </tr>\n",
       "  </thead>\n",
       "  <tbody>\n",
       "    <tr>\n",
       "      <th>0</th>\n",
       "      <td>female</td>\n",
       "      <td>group B</td>\n",
       "      <td>bachelor's degree</td>\n",
       "      <td>standard</td>\n",
       "      <td>none</td>\n",
       "      <td>72.0</td>\n",
       "      <td>72.0</td>\n",
       "      <td>74.0</td>\n",
       "    </tr>\n",
       "    <tr>\n",
       "      <th>1</th>\n",
       "      <td>female</td>\n",
       "      <td>group C</td>\n",
       "      <td>some college</td>\n",
       "      <td>standard</td>\n",
       "      <td>completed</td>\n",
       "      <td>69.0</td>\n",
       "      <td>90.0</td>\n",
       "      <td>88.0</td>\n",
       "    </tr>\n",
       "    <tr>\n",
       "      <th>2</th>\n",
       "      <td>female</td>\n",
       "      <td>group B</td>\n",
       "      <td>master's degree</td>\n",
       "      <td>standard</td>\n",
       "      <td>none</td>\n",
       "      <td>NaN</td>\n",
       "      <td>95.0</td>\n",
       "      <td>93.0</td>\n",
       "    </tr>\n",
       "    <tr>\n",
       "      <th>3</th>\n",
       "      <td>male</td>\n",
       "      <td>group A</td>\n",
       "      <td>associate's degree</td>\n",
       "      <td>free/reduced</td>\n",
       "      <td>none</td>\n",
       "      <td>47.0</td>\n",
       "      <td>57.0</td>\n",
       "      <td>44.0</td>\n",
       "    </tr>\n",
       "    <tr>\n",
       "      <th>4</th>\n",
       "      <td>male</td>\n",
       "      <td>group C</td>\n",
       "      <td>some college</td>\n",
       "      <td>standard</td>\n",
       "      <td>none</td>\n",
       "      <td>76.0</td>\n",
       "      <td>78.0</td>\n",
       "      <td>75.0</td>\n",
       "    </tr>\n",
       "    <tr>\n",
       "      <th>...</th>\n",
       "      <td>...</td>\n",
       "      <td>...</td>\n",
       "      <td>...</td>\n",
       "      <td>...</td>\n",
       "      <td>...</td>\n",
       "      <td>...</td>\n",
       "      <td>...</td>\n",
       "      <td>...</td>\n",
       "    </tr>\n",
       "    <tr>\n",
       "      <th>995</th>\n",
       "      <td>female</td>\n",
       "      <td>group E</td>\n",
       "      <td>master's degree</td>\n",
       "      <td>standard</td>\n",
       "      <td>completed</td>\n",
       "      <td>88.0</td>\n",
       "      <td>99.0</td>\n",
       "      <td>NaN</td>\n",
       "    </tr>\n",
       "    <tr>\n",
       "      <th>996</th>\n",
       "      <td>male</td>\n",
       "      <td>group C</td>\n",
       "      <td>high school</td>\n",
       "      <td>free/reduced</td>\n",
       "      <td>none</td>\n",
       "      <td>62.0</td>\n",
       "      <td>55.0</td>\n",
       "      <td>55.0</td>\n",
       "    </tr>\n",
       "    <tr>\n",
       "      <th>997</th>\n",
       "      <td>female</td>\n",
       "      <td>group C</td>\n",
       "      <td>high school</td>\n",
       "      <td>free/reduced</td>\n",
       "      <td>completed</td>\n",
       "      <td>59.0</td>\n",
       "      <td>71.0</td>\n",
       "      <td>65.0</td>\n",
       "    </tr>\n",
       "    <tr>\n",
       "      <th>998</th>\n",
       "      <td>female</td>\n",
       "      <td>group D</td>\n",
       "      <td>some college</td>\n",
       "      <td>standard</td>\n",
       "      <td>completed</td>\n",
       "      <td>68.0</td>\n",
       "      <td>78.0</td>\n",
       "      <td>77.0</td>\n",
       "    </tr>\n",
       "    <tr>\n",
       "      <th>999</th>\n",
       "      <td>female</td>\n",
       "      <td>group D</td>\n",
       "      <td>some college</td>\n",
       "      <td>free/reduced</td>\n",
       "      <td>none</td>\n",
       "      <td>77.0</td>\n",
       "      <td>86.0</td>\n",
       "      <td>86.0</td>\n",
       "    </tr>\n",
       "  </tbody>\n",
       "</table>\n",
       "<p>1000 rows × 8 columns</p>\n",
       "</div>"
      ],
      "text/plain": [
       "     gender race_ethnicity parental_level_of_education         lunch  \\\n",
       "0    female        group B           bachelor's degree      standard   \n",
       "1    female        group C                some college      standard   \n",
       "2    female        group B             master's degree      standard   \n",
       "3      male        group A          associate's degree  free/reduced   \n",
       "4      male        group C                some college      standard   \n",
       "..      ...            ...                         ...           ...   \n",
       "995  female        group E             master's degree      standard   \n",
       "996    male        group C                 high school  free/reduced   \n",
       "997  female        group C                 high school  free/reduced   \n",
       "998  female        group D                some college      standard   \n",
       "999  female        group D                some college  free/reduced   \n",
       "\n",
       "    test_preparation_course  math_score  reading_score  writing_score  \n",
       "0                      none        72.0           72.0           74.0  \n",
       "1                 completed        69.0           90.0           88.0  \n",
       "2                      none         NaN           95.0           93.0  \n",
       "3                      none        47.0           57.0           44.0  \n",
       "4                      none        76.0           78.0           75.0  \n",
       "..                      ...         ...            ...            ...  \n",
       "995               completed        88.0           99.0            NaN  \n",
       "996                    none        62.0           55.0           55.0  \n",
       "997               completed        59.0           71.0           65.0  \n",
       "998               completed        68.0           78.0           77.0  \n",
       "999                    none        77.0           86.0           86.0  \n",
       "\n",
       "[1000 rows x 8 columns]"
      ]
     },
     "execution_count": 119,
     "metadata": {},
     "output_type": "execute_result"
    }
   ],
   "source": [
    "import pandas as pd\n",
    "dataset = pd.read_csv(r\"C:\\Users\\HP\\Downloads\\study_performance.csv\")\n",
    "dataset"
   ]
  },
  {
   "cell_type": "code",
   "execution_count": 120,
   "id": "5ee9269a-109d-485a-99c5-4ea5192ce98f",
   "metadata": {},
   "outputs": [
    {
     "name": "stdout",
     "output_type": "stream",
     "text": [
      "<class 'pandas.core.frame.DataFrame'>\n",
      "RangeIndex: 1000 entries, 0 to 999\n",
      "Data columns (total 8 columns):\n",
      " #   Column                       Non-Null Count  Dtype  \n",
      "---  ------                       --------------  -----  \n",
      " 0   gender                       1000 non-null   object \n",
      " 1   race_ethnicity               1000 non-null   object \n",
      " 2   parental_level_of_education  1000 non-null   object \n",
      " 3   lunch                        1000 non-null   object \n",
      " 4   test_preparation_course      1000 non-null   object \n",
      " 5   math_score                   999 non-null    float64\n",
      " 6   reading_score                999 non-null    float64\n",
      " 7   writing_score                998 non-null    float64\n",
      "dtypes: float64(3), object(5)\n",
      "memory usage: 62.6+ KB\n"
     ]
    }
   ],
   "source": [
    "dataset.info()"
   ]
  },
  {
   "cell_type": "markdown",
   "id": "3ee6c1c2-e826-4d97-bd49-4e49f3c3397a",
   "metadata": {},
   "source": [
    "<span style=\"font-size: 15pt; color:grey\">math_score , reading_score ve writing_score 1000 satir değil , null değer var olması gerekir</span>"
   ]
  },
  {
   "cell_type": "code",
   "execution_count": 121,
   "id": "6ea41516-490c-44c8-950f-51614937bd8a",
   "metadata": {},
   "outputs": [
    {
     "data": {
      "text/plain": [
       "True"
      ]
     },
     "execution_count": 121,
     "metadata": {},
     "output_type": "execute_result"
    }
   ],
   "source": [
    "dataset.isnull().values.any()"
   ]
  },
  {
   "cell_type": "markdown",
   "id": "1083a756-2641-4103-803b-183b9935d625",
   "metadata": {},
   "source": [
    "<span style=\"font-size: 13pt; color:grey\">Null değerler temizlememiz gerekir. Mean ile dolduracağiz.</span>"
   ]
  },
  {
   "cell_type": "markdown",
   "id": "224df3e9-3a08-42fc-9fc1-b63cc51c2569",
   "metadata": {},
   "source": [
    "<span style=\"font-size: 32pt; font-weight: bold; color:plum\">Veri Temizleme</span>"
   ]
  },
  {
   "cell_type": "code",
   "execution_count": 122,
   "id": "737cadad-d928-486a-ac23-310344b9c328",
   "metadata": {},
   "outputs": [
    {
     "name": "stdout",
     "output_type": "stream",
     "text": [
      "Mean math score: 66.07\n",
      "Mean reading score: 69.18\n",
      "Mean writing score: 68.01\n"
     ]
    }
   ],
   "source": [
    "mean_math_score = dataset['math_score'].mean()\n",
    "print(f\"Mean math score: {mean_math_score:.2f}\")\n",
    "\n",
    "mean_reading_score = dataset['reading_score'].mean()\n",
    "print(f\"Mean reading score: {mean_reading_score:.2f}\")\n",
    "\n",
    "mean_writing_score = dataset['writing_score'].mean()\n",
    "print(f\"Mean writing score: {mean_writing_score:.2f}\")"
   ]
  },
  {
   "cell_type": "code",
   "execution_count": 123,
   "id": "0a705791-7645-45d8-8f52-e40f9c176ca2",
   "metadata": {},
   "outputs": [
    {
     "data": {
      "text/plain": [
       "False"
      ]
     },
     "execution_count": 123,
     "metadata": {},
     "output_type": "execute_result"
    }
   ],
   "source": [
    "dataset['math_score'].fillna(mean_math_score, inplace=True)\n",
    "dataset['reading_score'].fillna(mean_reading_score, inplace=True)\n",
    "dataset['writing_score'].fillna(mean_writing_score, inplace=True)\n",
    "\n",
    "dataset.isnull().values.any()"
   ]
  },
  {
   "cell_type": "code",
   "execution_count": 124,
   "id": "d5cb4e5d-a5e9-4b87-9c72-e9b3767334fb",
   "metadata": {},
   "outputs": [
    {
     "data": {
      "text/html": [
       "<div>\n",
       "<style scoped>\n",
       "    .dataframe tbody tr th:only-of-type {\n",
       "        vertical-align: middle;\n",
       "    }\n",
       "\n",
       "    .dataframe tbody tr th {\n",
       "        vertical-align: top;\n",
       "    }\n",
       "\n",
       "    .dataframe thead th {\n",
       "        text-align: right;\n",
       "    }\n",
       "</style>\n",
       "<table border=\"1\" class=\"dataframe\">\n",
       "  <thead>\n",
       "    <tr style=\"text-align: right;\">\n",
       "      <th></th>\n",
       "      <th>gender</th>\n",
       "      <th>race_ethnicity</th>\n",
       "      <th>parental_level_of_education</th>\n",
       "      <th>lunch</th>\n",
       "      <th>test_preparation_course</th>\n",
       "      <th>math_score</th>\n",
       "      <th>reading_score</th>\n",
       "      <th>writing_score</th>\n",
       "    </tr>\n",
       "  </thead>\n",
       "  <tbody>\n",
       "    <tr>\n",
       "      <th>0</th>\n",
       "      <td>female</td>\n",
       "      <td>group B</td>\n",
       "      <td>bachelor's degree</td>\n",
       "      <td>standard</td>\n",
       "      <td>none</td>\n",
       "      <td>72.000000</td>\n",
       "      <td>72.0</td>\n",
       "      <td>74.000000</td>\n",
       "    </tr>\n",
       "    <tr>\n",
       "      <th>1</th>\n",
       "      <td>female</td>\n",
       "      <td>group C</td>\n",
       "      <td>some college</td>\n",
       "      <td>standard</td>\n",
       "      <td>completed</td>\n",
       "      <td>69.000000</td>\n",
       "      <td>90.0</td>\n",
       "      <td>88.000000</td>\n",
       "    </tr>\n",
       "    <tr>\n",
       "      <th>2</th>\n",
       "      <td>female</td>\n",
       "      <td>group B</td>\n",
       "      <td>master's degree</td>\n",
       "      <td>standard</td>\n",
       "      <td>none</td>\n",
       "      <td>66.065065</td>\n",
       "      <td>95.0</td>\n",
       "      <td>93.000000</td>\n",
       "    </tr>\n",
       "    <tr>\n",
       "      <th>3</th>\n",
       "      <td>male</td>\n",
       "      <td>group A</td>\n",
       "      <td>associate's degree</td>\n",
       "      <td>free/reduced</td>\n",
       "      <td>none</td>\n",
       "      <td>47.000000</td>\n",
       "      <td>57.0</td>\n",
       "      <td>44.000000</td>\n",
       "    </tr>\n",
       "    <tr>\n",
       "      <th>4</th>\n",
       "      <td>male</td>\n",
       "      <td>group C</td>\n",
       "      <td>some college</td>\n",
       "      <td>standard</td>\n",
       "      <td>none</td>\n",
       "      <td>76.000000</td>\n",
       "      <td>78.0</td>\n",
       "      <td>75.000000</td>\n",
       "    </tr>\n",
       "    <tr>\n",
       "      <th>...</th>\n",
       "      <td>...</td>\n",
       "      <td>...</td>\n",
       "      <td>...</td>\n",
       "      <td>...</td>\n",
       "      <td>...</td>\n",
       "      <td>...</td>\n",
       "      <td>...</td>\n",
       "      <td>...</td>\n",
       "    </tr>\n",
       "    <tr>\n",
       "      <th>995</th>\n",
       "      <td>female</td>\n",
       "      <td>group E</td>\n",
       "      <td>master's degree</td>\n",
       "      <td>standard</td>\n",
       "      <td>completed</td>\n",
       "      <td>88.000000</td>\n",
       "      <td>99.0</td>\n",
       "      <td>68.012024</td>\n",
       "    </tr>\n",
       "    <tr>\n",
       "      <th>996</th>\n",
       "      <td>male</td>\n",
       "      <td>group C</td>\n",
       "      <td>high school</td>\n",
       "      <td>free/reduced</td>\n",
       "      <td>none</td>\n",
       "      <td>62.000000</td>\n",
       "      <td>55.0</td>\n",
       "      <td>55.000000</td>\n",
       "    </tr>\n",
       "    <tr>\n",
       "      <th>997</th>\n",
       "      <td>female</td>\n",
       "      <td>group C</td>\n",
       "      <td>high school</td>\n",
       "      <td>free/reduced</td>\n",
       "      <td>completed</td>\n",
       "      <td>59.000000</td>\n",
       "      <td>71.0</td>\n",
       "      <td>65.000000</td>\n",
       "    </tr>\n",
       "    <tr>\n",
       "      <th>998</th>\n",
       "      <td>female</td>\n",
       "      <td>group D</td>\n",
       "      <td>some college</td>\n",
       "      <td>standard</td>\n",
       "      <td>completed</td>\n",
       "      <td>68.000000</td>\n",
       "      <td>78.0</td>\n",
       "      <td>77.000000</td>\n",
       "    </tr>\n",
       "    <tr>\n",
       "      <th>999</th>\n",
       "      <td>female</td>\n",
       "      <td>group D</td>\n",
       "      <td>some college</td>\n",
       "      <td>free/reduced</td>\n",
       "      <td>none</td>\n",
       "      <td>77.000000</td>\n",
       "      <td>86.0</td>\n",
       "      <td>86.000000</td>\n",
       "    </tr>\n",
       "  </tbody>\n",
       "</table>\n",
       "<p>1000 rows × 8 columns</p>\n",
       "</div>"
      ],
      "text/plain": [
       "     gender race_ethnicity parental_level_of_education         lunch  \\\n",
       "0    female        group B           bachelor's degree      standard   \n",
       "1    female        group C                some college      standard   \n",
       "2    female        group B             master's degree      standard   \n",
       "3      male        group A          associate's degree  free/reduced   \n",
       "4      male        group C                some college      standard   \n",
       "..      ...            ...                         ...           ...   \n",
       "995  female        group E             master's degree      standard   \n",
       "996    male        group C                 high school  free/reduced   \n",
       "997  female        group C                 high school  free/reduced   \n",
       "998  female        group D                some college      standard   \n",
       "999  female        group D                some college  free/reduced   \n",
       "\n",
       "    test_preparation_course  math_score  reading_score  writing_score  \n",
       "0                      none   72.000000           72.0      74.000000  \n",
       "1                 completed   69.000000           90.0      88.000000  \n",
       "2                      none   66.065065           95.0      93.000000  \n",
       "3                      none   47.000000           57.0      44.000000  \n",
       "4                      none   76.000000           78.0      75.000000  \n",
       "..                      ...         ...            ...            ...  \n",
       "995               completed   88.000000           99.0      68.012024  \n",
       "996                    none   62.000000           55.0      55.000000  \n",
       "997               completed   59.000000           71.0      65.000000  \n",
       "998               completed   68.000000           78.0      77.000000  \n",
       "999                    none   77.000000           86.0      86.000000  \n",
       "\n",
       "[1000 rows x 8 columns]"
      ]
     },
     "execution_count": 124,
     "metadata": {},
     "output_type": "execute_result"
    }
   ],
   "source": [
    "dataset"
   ]
  },
  {
   "cell_type": "markdown",
   "id": "aaa76ec6-4f3f-4c19-a689-d3ee93c7d9a8",
   "metadata": {},
   "source": [
    "<span style=\"font-size: 30pt; font-weight: bold; color:plum\">Veri Dönüşüm</span>"
   ]
  },
  {
   "cell_type": "code",
   "execution_count": 125,
   "id": "008f86b6-0f3d-46ae-9f49-7e85d68691f3",
   "metadata": {},
   "outputs": [
    {
     "data": {
      "text/html": [
       "<div>\n",
       "<style scoped>\n",
       "    .dataframe tbody tr th:only-of-type {\n",
       "        vertical-align: middle;\n",
       "    }\n",
       "\n",
       "    .dataframe tbody tr th {\n",
       "        vertical-align: top;\n",
       "    }\n",
       "\n",
       "    .dataframe thead th {\n",
       "        text-align: right;\n",
       "    }\n",
       "</style>\n",
       "<table border=\"1\" class=\"dataframe\">\n",
       "  <thead>\n",
       "    <tr style=\"text-align: right;\">\n",
       "      <th></th>\n",
       "      <th>gender</th>\n",
       "      <th>race_ethnicity</th>\n",
       "      <th>parental_level_of_education</th>\n",
       "      <th>lunch</th>\n",
       "      <th>test_preparation_course</th>\n",
       "      <th>math_score</th>\n",
       "      <th>reading_score</th>\n",
       "      <th>writing_score</th>\n",
       "    </tr>\n",
       "  </thead>\n",
       "  <tbody>\n",
       "    <tr>\n",
       "      <th>0</th>\n",
       "      <td>female</td>\n",
       "      <td>group B</td>\n",
       "      <td>bachelor's degree</td>\n",
       "      <td>ate</td>\n",
       "      <td>none</td>\n",
       "      <td>72.000000</td>\n",
       "      <td>72.0</td>\n",
       "      <td>74.000000</td>\n",
       "    </tr>\n",
       "    <tr>\n",
       "      <th>1</th>\n",
       "      <td>female</td>\n",
       "      <td>group C</td>\n",
       "      <td>some college</td>\n",
       "      <td>ate</td>\n",
       "      <td>completed</td>\n",
       "      <td>69.000000</td>\n",
       "      <td>90.0</td>\n",
       "      <td>88.000000</td>\n",
       "    </tr>\n",
       "    <tr>\n",
       "      <th>2</th>\n",
       "      <td>female</td>\n",
       "      <td>group B</td>\n",
       "      <td>master's degree</td>\n",
       "      <td>ate</td>\n",
       "      <td>none</td>\n",
       "      <td>66.065065</td>\n",
       "      <td>95.0</td>\n",
       "      <td>93.000000</td>\n",
       "    </tr>\n",
       "    <tr>\n",
       "      <th>3</th>\n",
       "      <td>male</td>\n",
       "      <td>group A</td>\n",
       "      <td>associate's degree</td>\n",
       "      <td>Didn't eat</td>\n",
       "      <td>none</td>\n",
       "      <td>47.000000</td>\n",
       "      <td>57.0</td>\n",
       "      <td>44.000000</td>\n",
       "    </tr>\n",
       "    <tr>\n",
       "      <th>4</th>\n",
       "      <td>male</td>\n",
       "      <td>group C</td>\n",
       "      <td>some college</td>\n",
       "      <td>ate</td>\n",
       "      <td>none</td>\n",
       "      <td>76.000000</td>\n",
       "      <td>78.0</td>\n",
       "      <td>75.000000</td>\n",
       "    </tr>\n",
       "    <tr>\n",
       "      <th>...</th>\n",
       "      <td>...</td>\n",
       "      <td>...</td>\n",
       "      <td>...</td>\n",
       "      <td>...</td>\n",
       "      <td>...</td>\n",
       "      <td>...</td>\n",
       "      <td>...</td>\n",
       "      <td>...</td>\n",
       "    </tr>\n",
       "    <tr>\n",
       "      <th>995</th>\n",
       "      <td>female</td>\n",
       "      <td>group E</td>\n",
       "      <td>master's degree</td>\n",
       "      <td>ate</td>\n",
       "      <td>completed</td>\n",
       "      <td>88.000000</td>\n",
       "      <td>99.0</td>\n",
       "      <td>68.012024</td>\n",
       "    </tr>\n",
       "    <tr>\n",
       "      <th>996</th>\n",
       "      <td>male</td>\n",
       "      <td>group C</td>\n",
       "      <td>high school</td>\n",
       "      <td>Didn't eat</td>\n",
       "      <td>none</td>\n",
       "      <td>62.000000</td>\n",
       "      <td>55.0</td>\n",
       "      <td>55.000000</td>\n",
       "    </tr>\n",
       "    <tr>\n",
       "      <th>997</th>\n",
       "      <td>female</td>\n",
       "      <td>group C</td>\n",
       "      <td>high school</td>\n",
       "      <td>Didn't eat</td>\n",
       "      <td>completed</td>\n",
       "      <td>59.000000</td>\n",
       "      <td>71.0</td>\n",
       "      <td>65.000000</td>\n",
       "    </tr>\n",
       "    <tr>\n",
       "      <th>998</th>\n",
       "      <td>female</td>\n",
       "      <td>group D</td>\n",
       "      <td>some college</td>\n",
       "      <td>ate</td>\n",
       "      <td>completed</td>\n",
       "      <td>68.000000</td>\n",
       "      <td>78.0</td>\n",
       "      <td>77.000000</td>\n",
       "    </tr>\n",
       "    <tr>\n",
       "      <th>999</th>\n",
       "      <td>female</td>\n",
       "      <td>group D</td>\n",
       "      <td>some college</td>\n",
       "      <td>Didn't eat</td>\n",
       "      <td>none</td>\n",
       "      <td>77.000000</td>\n",
       "      <td>86.0</td>\n",
       "      <td>86.000000</td>\n",
       "    </tr>\n",
       "  </tbody>\n",
       "</table>\n",
       "<p>1000 rows × 8 columns</p>\n",
       "</div>"
      ],
      "text/plain": [
       "     gender race_ethnicity parental_level_of_education       lunch  \\\n",
       "0    female        group B           bachelor's degree         ate   \n",
       "1    female        group C                some college         ate   \n",
       "2    female        group B             master's degree         ate   \n",
       "3      male        group A          associate's degree  Didn't eat   \n",
       "4      male        group C                some college         ate   \n",
       "..      ...            ...                         ...         ...   \n",
       "995  female        group E             master's degree         ate   \n",
       "996    male        group C                 high school  Didn't eat   \n",
       "997  female        group C                 high school  Didn't eat   \n",
       "998  female        group D                some college         ate   \n",
       "999  female        group D                some college  Didn't eat   \n",
       "\n",
       "    test_preparation_course  math_score  reading_score  writing_score  \n",
       "0                      none   72.000000           72.0      74.000000  \n",
       "1                 completed   69.000000           90.0      88.000000  \n",
       "2                      none   66.065065           95.0      93.000000  \n",
       "3                      none   47.000000           57.0      44.000000  \n",
       "4                      none   76.000000           78.0      75.000000  \n",
       "..                      ...         ...            ...            ...  \n",
       "995               completed   88.000000           99.0      68.012024  \n",
       "996                    none   62.000000           55.0      55.000000  \n",
       "997               completed   59.000000           71.0      65.000000  \n",
       "998               completed   68.000000           78.0      77.000000  \n",
       "999                    none   77.000000           86.0      86.000000  \n",
       "\n",
       "[1000 rows x 8 columns]"
      ]
     },
     "metadata": {},
     "output_type": "display_data"
    }
   ],
   "source": [
    "dataset['lunch'] = dataset['lunch'].replace('standard', 'ate').replace('free/reduced', \"Didn't eat\")\n",
    "display(dataset)\n",
    "#[ ['lunch' , 'math_score' , 'reading_score' , 'writing_score'] ]"
   ]
  },
  {
   "cell_type": "markdown",
   "id": "f74ec598-b770-4fb1-9bfe-96fd6a8aa653",
   "metadata": {},
   "source": [
    "<span style=\"font-size: 13pt; color:grey\">Bizim amacımız öğrencilerin notlarını etkileyen faktörleri belirlemektir.</span>"
   ]
  },
  {
   "cell_type": "markdown",
   "id": "7350d164-0438-40de-bcee-cc28d880569c",
   "metadata": {},
   "source": [
    "<span style=\"font-size: 32pt; font-weight: bold; color:plum\">Veri Analiz</span>"
   ]
  },
  {
   "cell_type": "code",
   "execution_count": 126,
   "id": "35cbb580-db7c-452f-8cc1-fa5200b02900",
   "metadata": {},
   "outputs": [
    {
     "data": {
      "text/html": [
       "<div>\n",
       "<style scoped>\n",
       "    .dataframe tbody tr th:only-of-type {\n",
       "        vertical-align: middle;\n",
       "    }\n",
       "\n",
       "    .dataframe tbody tr th {\n",
       "        vertical-align: top;\n",
       "    }\n",
       "\n",
       "    .dataframe thead th {\n",
       "        text-align: right;\n",
       "    }\n",
       "</style>\n",
       "<table border=\"1\" class=\"dataframe\">\n",
       "  <thead>\n",
       "    <tr style=\"text-align: right;\">\n",
       "      <th></th>\n",
       "      <th>math_score</th>\n",
       "      <th>reading_score</th>\n",
       "      <th>writing_score</th>\n",
       "    </tr>\n",
       "  </thead>\n",
       "  <tbody>\n",
       "    <tr>\n",
       "      <th>count</th>\n",
       "      <td>1000.000000</td>\n",
       "      <td>1000.000000</td>\n",
       "      <td>1000.000000</td>\n",
       "    </tr>\n",
       "    <tr>\n",
       "      <th>mean</th>\n",
       "      <td>66.065065</td>\n",
       "      <td>69.183183</td>\n",
       "      <td>68.012024</td>\n",
       "    </tr>\n",
       "    <tr>\n",
       "      <th>std</th>\n",
       "      <td>15.144178</td>\n",
       "      <td>14.602216</td>\n",
       "      <td>15.164294</td>\n",
       "    </tr>\n",
       "    <tr>\n",
       "      <th>min</th>\n",
       "      <td>0.000000</td>\n",
       "      <td>17.000000</td>\n",
       "      <td>10.000000</td>\n",
       "    </tr>\n",
       "    <tr>\n",
       "      <th>25%</th>\n",
       "      <td>57.000000</td>\n",
       "      <td>59.000000</td>\n",
       "      <td>57.750000</td>\n",
       "    </tr>\n",
       "    <tr>\n",
       "      <th>50%</th>\n",
       "      <td>66.000000</td>\n",
       "      <td>70.000000</td>\n",
       "      <td>69.000000</td>\n",
       "    </tr>\n",
       "    <tr>\n",
       "      <th>75%</th>\n",
       "      <td>77.000000</td>\n",
       "      <td>79.000000</td>\n",
       "      <td>79.000000</td>\n",
       "    </tr>\n",
       "    <tr>\n",
       "      <th>max</th>\n",
       "      <td>100.000000</td>\n",
       "      <td>100.000000</td>\n",
       "      <td>100.000000</td>\n",
       "    </tr>\n",
       "  </tbody>\n",
       "</table>\n",
       "</div>"
      ],
      "text/plain": [
       "        math_score  reading_score  writing_score\n",
       "count  1000.000000    1000.000000    1000.000000\n",
       "mean     66.065065      69.183183      68.012024\n",
       "std      15.144178      14.602216      15.164294\n",
       "min       0.000000      17.000000      10.000000\n",
       "25%      57.000000      59.000000      57.750000\n",
       "50%      66.000000      70.000000      69.000000\n",
       "75%      77.000000      79.000000      79.000000\n",
       "max     100.000000     100.000000     100.000000"
      ]
     },
     "execution_count": 126,
     "metadata": {},
     "output_type": "execute_result"
    }
   ],
   "source": [
    "dataset.describe()"
   ]
  },
  {
   "cell_type": "code",
   "execution_count": 127,
   "id": "bf308386-fb54-4845-9b46-2d628565010d",
   "metadata": {},
   "outputs": [
    {
     "data": {
      "text/html": [
       "<div>\n",
       "<style scoped>\n",
       "    .dataframe tbody tr th:only-of-type {\n",
       "        vertical-align: middle;\n",
       "    }\n",
       "\n",
       "    .dataframe tbody tr th {\n",
       "        vertical-align: top;\n",
       "    }\n",
       "\n",
       "    .dataframe thead th {\n",
       "        text-align: right;\n",
       "    }\n",
       "</style>\n",
       "<table border=\"1\" class=\"dataframe\">\n",
       "  <thead>\n",
       "    <tr style=\"text-align: right;\">\n",
       "      <th></th>\n",
       "      <th>gender</th>\n",
       "      <th>race_ethnicity</th>\n",
       "      <th>parental_level_of_education</th>\n",
       "      <th>lunch</th>\n",
       "      <th>test_preparation_course</th>\n",
       "      <th>math_score</th>\n",
       "      <th>reading_score</th>\n",
       "      <th>writing_score</th>\n",
       "    </tr>\n",
       "  </thead>\n",
       "  <tbody>\n",
       "    <tr>\n",
       "      <th>59</th>\n",
       "      <td>female</td>\n",
       "      <td>group C</td>\n",
       "      <td>some high school</td>\n",
       "      <td>Didn't eat</td>\n",
       "      <td>none</td>\n",
       "      <td>0.0</td>\n",
       "      <td>17.0</td>\n",
       "      <td>10.0</td>\n",
       "    </tr>\n",
       "  </tbody>\n",
       "</table>\n",
       "</div>"
      ],
      "text/plain": [
       "    gender race_ethnicity parental_level_of_education       lunch  \\\n",
       "59  female        group C            some high school  Didn't eat   \n",
       "\n",
       "   test_preparation_course  math_score  reading_score  writing_score  \n",
       "59                    none         0.0           17.0           10.0  "
      ]
     },
     "execution_count": 127,
     "metadata": {},
     "output_type": "execute_result"
    }
   ],
   "source": [
    "dataset[dataset['math_score'] == 0]"
   ]
  },
  {
   "cell_type": "code",
   "execution_count": 128,
   "id": "3b64df56-32c7-4f7c-ac4b-10cc8fe6ccb2",
   "metadata": {},
   "outputs": [
    {
     "data": {
      "text/html": [
       "<div>\n",
       "<style scoped>\n",
       "    .dataframe tbody tr th:only-of-type {\n",
       "        vertical-align: middle;\n",
       "    }\n",
       "\n",
       "    .dataframe tbody tr th {\n",
       "        vertical-align: top;\n",
       "    }\n",
       "\n",
       "    .dataframe thead th {\n",
       "        text-align: right;\n",
       "    }\n",
       "</style>\n",
       "<table border=\"1\" class=\"dataframe\">\n",
       "  <thead>\n",
       "    <tr style=\"text-align: right;\">\n",
       "      <th></th>\n",
       "      <th>gender</th>\n",
       "      <th>race_ethnicity</th>\n",
       "      <th>parental_level_of_education</th>\n",
       "      <th>lunch</th>\n",
       "      <th>test_preparation_course</th>\n",
       "      <th>math_score</th>\n",
       "      <th>reading_score</th>\n",
       "      <th>writing_score</th>\n",
       "    </tr>\n",
       "  </thead>\n",
       "  <tbody>\n",
       "    <tr>\n",
       "      <th>458</th>\n",
       "      <td>female</td>\n",
       "      <td>group E</td>\n",
       "      <td>bachelor's degree</td>\n",
       "      <td>ate</td>\n",
       "      <td>none</td>\n",
       "      <td>100.0</td>\n",
       "      <td>100.0</td>\n",
       "      <td>100.0</td>\n",
       "    </tr>\n",
       "    <tr>\n",
       "      <th>916</th>\n",
       "      <td>male</td>\n",
       "      <td>group E</td>\n",
       "      <td>bachelor's degree</td>\n",
       "      <td>ate</td>\n",
       "      <td>completed</td>\n",
       "      <td>100.0</td>\n",
       "      <td>100.0</td>\n",
       "      <td>100.0</td>\n",
       "    </tr>\n",
       "    <tr>\n",
       "      <th>962</th>\n",
       "      <td>female</td>\n",
       "      <td>group E</td>\n",
       "      <td>associate's degree</td>\n",
       "      <td>ate</td>\n",
       "      <td>none</td>\n",
       "      <td>100.0</td>\n",
       "      <td>100.0</td>\n",
       "      <td>100.0</td>\n",
       "    </tr>\n",
       "  </tbody>\n",
       "</table>\n",
       "</div>"
      ],
      "text/plain": [
       "     gender race_ethnicity parental_level_of_education lunch  \\\n",
       "458  female        group E           bachelor's degree   ate   \n",
       "916    male        group E           bachelor's degree   ate   \n",
       "962  female        group E          associate's degree   ate   \n",
       "\n",
       "    test_preparation_course  math_score  reading_score  writing_score  \n",
       "458                    none       100.0          100.0          100.0  \n",
       "916               completed       100.0          100.0          100.0  \n",
       "962                    none       100.0          100.0          100.0  "
      ]
     },
     "execution_count": 128,
     "metadata": {},
     "output_type": "execute_result"
    }
   ],
   "source": [
    "dataset[(dataset['math_score'] == 100) & (dataset['reading_score'] == 100) & (dataset['writing_score'] == 100)]"
   ]
  },
  {
   "cell_type": "markdown",
   "id": "0f8f5442-5108-4335-ad3f-9cc1b3fff80b",
   "metadata": {},
   "source": [
    "<span style=\"font-size: 22pt; font-weight: bold;\">Irk faktörü</span>"
   ]
  },
  {
   "cell_type": "code",
   "execution_count": 129,
   "id": "5ad2f33e-8e68-4ca2-9572-bab759db6b80",
   "metadata": {},
   "outputs": [
    {
     "name": "stdout",
     "output_type": "stream",
     "text": [
      "Scores Statistics by Ethnicity:\n"
     ]
    },
    {
     "data": {
      "text/html": [
       "<div>\n",
       "<style scoped>\n",
       "    .dataframe tbody tr th:only-of-type {\n",
       "        vertical-align: middle;\n",
       "    }\n",
       "\n",
       "    .dataframe tbody tr th {\n",
       "        vertical-align: top;\n",
       "    }\n",
       "\n",
       "    .dataframe thead tr th {\n",
       "        text-align: left;\n",
       "    }\n",
       "\n",
       "    .dataframe thead tr:last-of-type th {\n",
       "        text-align: right;\n",
       "    }\n",
       "</style>\n",
       "<table border=\"1\" class=\"dataframe\">\n",
       "  <thead>\n",
       "    <tr>\n",
       "      <th></th>\n",
       "      <th colspan=\"3\" halign=\"left\">math_score</th>\n",
       "      <th colspan=\"3\" halign=\"left\">writing_score</th>\n",
       "      <th colspan=\"3\" halign=\"left\">reading_score</th>\n",
       "    </tr>\n",
       "    <tr>\n",
       "      <th></th>\n",
       "      <th>mean</th>\n",
       "      <th>min</th>\n",
       "      <th>max</th>\n",
       "      <th>mean</th>\n",
       "      <th>min</th>\n",
       "      <th>max</th>\n",
       "      <th>mean</th>\n",
       "      <th>min</th>\n",
       "      <th>max</th>\n",
       "    </tr>\n",
       "    <tr>\n",
       "      <th>race_ethnicity</th>\n",
       "      <th></th>\n",
       "      <th></th>\n",
       "      <th></th>\n",
       "      <th></th>\n",
       "      <th></th>\n",
       "      <th></th>\n",
       "      <th></th>\n",
       "      <th></th>\n",
       "      <th></th>\n",
       "    </tr>\n",
       "  </thead>\n",
       "  <tbody>\n",
       "    <tr>\n",
       "      <th>group A</th>\n",
       "      <td>61.629213</td>\n",
       "      <td>28.0</td>\n",
       "      <td>100.0</td>\n",
       "      <td>62.674157</td>\n",
       "      <td>19.0</td>\n",
       "      <td>97.0</td>\n",
       "      <td>64.674157</td>\n",
       "      <td>23.0</td>\n",
       "      <td>100.0</td>\n",
       "    </tr>\n",
       "    <tr>\n",
       "      <th>group B</th>\n",
       "      <td>63.326658</td>\n",
       "      <td>8.0</td>\n",
       "      <td>97.0</td>\n",
       "      <td>65.600000</td>\n",
       "      <td>15.0</td>\n",
       "      <td>96.0</td>\n",
       "      <td>67.353596</td>\n",
       "      <td>24.0</td>\n",
       "      <td>97.0</td>\n",
       "    </tr>\n",
       "    <tr>\n",
       "      <th>group C</th>\n",
       "      <td>64.463950</td>\n",
       "      <td>0.0</td>\n",
       "      <td>98.0</td>\n",
       "      <td>67.827586</td>\n",
       "      <td>10.0</td>\n",
       "      <td>100.0</td>\n",
       "      <td>69.115987</td>\n",
       "      <td>17.0</td>\n",
       "      <td>100.0</td>\n",
       "    </tr>\n",
       "    <tr>\n",
       "      <th>group D</th>\n",
       "      <td>67.362595</td>\n",
       "      <td>26.0</td>\n",
       "      <td>100.0</td>\n",
       "      <td>70.087832</td>\n",
       "      <td>32.0</td>\n",
       "      <td>100.0</td>\n",
       "      <td>70.045802</td>\n",
       "      <td>31.0</td>\n",
       "      <td>100.0</td>\n",
       "    </tr>\n",
       "    <tr>\n",
       "      <th>group E</th>\n",
       "      <td>73.821429</td>\n",
       "      <td>30.0</td>\n",
       "      <td>100.0</td>\n",
       "      <td>71.214372</td>\n",
       "      <td>22.0</td>\n",
       "      <td>100.0</td>\n",
       "      <td>73.071429</td>\n",
       "      <td>26.0</td>\n",
       "      <td>100.0</td>\n",
       "    </tr>\n",
       "  </tbody>\n",
       "</table>\n",
       "</div>"
      ],
      "text/plain": [
       "               math_score              writing_score               \\\n",
       "                     mean   min    max          mean   min    max   \n",
       "race_ethnicity                                                      \n",
       "group A         61.629213  28.0  100.0     62.674157  19.0   97.0   \n",
       "group B         63.326658   8.0   97.0     65.600000  15.0   96.0   \n",
       "group C         64.463950   0.0   98.0     67.827586  10.0  100.0   \n",
       "group D         67.362595  26.0  100.0     70.087832  32.0  100.0   \n",
       "group E         73.821429  30.0  100.0     71.214372  22.0  100.0   \n",
       "\n",
       "               reading_score               \n",
       "                        mean   min    max  \n",
       "race_ethnicity                             \n",
       "group A            64.674157  23.0  100.0  \n",
       "group B            67.353596  24.0   97.0  \n",
       "group C            69.115987  17.0  100.0  \n",
       "group D            70.045802  31.0  100.0  \n",
       "group E            73.071429  26.0  100.0  "
      ]
     },
     "metadata": {},
     "output_type": "display_data"
    }
   ],
   "source": [
    "# Group by 'race_ethnicity' and compute mean, max and min for each subjects\n",
    "Stats_by_ethnicity = dataset.groupby('race_ethnicity')[['math_score', 'writing_score', 'reading_score']].agg(['mean', 'min', 'max'])\n",
    "\n",
    "# Display the results\n",
    "print(\"Scores Statistics by Ethnicity:\")\n",
    "display(Stats_by_ethnicity)"
   ]
  },
  {
   "cell_type": "code",
   "execution_count": 130,
   "id": "44210dba-dbd6-4a34-a7f9-e4d463521f80",
   "metadata": {},
   "outputs": [
    {
     "data": {
      "image/png": "[encoded data removed]",
      "text/plain": [
       "<Figure size 800x600 with 1 Axes>"
      ]
     },
     "metadata": {},
     "output_type": "display_data"
    }
   ],
   "source": [
    "import matplotlib.pyplot as plt\n",
    "ethnicity_counts = dataset['race_ethnicity'].value_counts()\n",
    "\n",
    "# Create a pie chart\n",
    "plt.figure(figsize=(8, 6))\n",
    "plt.pie(ethnicity_counts, labels=ethnicity_counts.index, autopct='%1.1f%%', startangle=90)\n",
    "plt.title(\"Distribution of Ethnicities in Student Study Performance\")\n",
    "\n",
    "# Show the plot\n",
    "plt.show()"
   ]
  },
  {
   "cell_type": "markdown",
   "id": "e0c448fb-69a7-40d3-ac2d-35654fe8c172",
   "metadata": {},
   "source": [
    "<span style=\"font-size: 22pt; font-weight: bold;\">Ebeveynlerin eğitim düzeyi faktörü</span>"
   ]
  },
  {
   "cell_type": "code",
   "execution_count": 131,
   "id": "3472916f-48de-45f2-90b4-d7526b023fce",
   "metadata": {},
   "outputs": [
    {
     "name": "stdout",
     "output_type": "stream",
     "text": [
      "Scores Statistics by parental level of education:\n"
     ]
    },
    {
     "data": {
      "text/html": [
       "<div>\n",
       "<style scoped>\n",
       "    .dataframe tbody tr th:only-of-type {\n",
       "        vertical-align: middle;\n",
       "    }\n",
       "\n",
       "    .dataframe tbody tr th {\n",
       "        vertical-align: top;\n",
       "    }\n",
       "\n",
       "    .dataframe thead tr th {\n",
       "        text-align: left;\n",
       "    }\n",
       "\n",
       "    .dataframe thead tr:last-of-type th {\n",
       "        text-align: right;\n",
       "    }\n",
       "</style>\n",
       "<table border=\"1\" class=\"dataframe\">\n",
       "  <thead>\n",
       "    <tr>\n",
       "      <th></th>\n",
       "      <th colspan=\"3\" halign=\"left\">math_score</th>\n",
       "      <th colspan=\"3\" halign=\"left\">writing_score</th>\n",
       "      <th colspan=\"3\" halign=\"left\">reading_score</th>\n",
       "    </tr>\n",
       "    <tr>\n",
       "      <th></th>\n",
       "      <th>mean</th>\n",
       "      <th>min</th>\n",
       "      <th>max</th>\n",
       "      <th>mean</th>\n",
       "      <th>min</th>\n",
       "      <th>max</th>\n",
       "      <th>mean</th>\n",
       "      <th>min</th>\n",
       "      <th>max</th>\n",
       "    </tr>\n",
       "    <tr>\n",
       "      <th>parental_level_of_education</th>\n",
       "      <th></th>\n",
       "      <th></th>\n",
       "      <th></th>\n",
       "      <th></th>\n",
       "      <th></th>\n",
       "      <th></th>\n",
       "      <th></th>\n",
       "      <th></th>\n",
       "      <th></th>\n",
       "    </tr>\n",
       "  </thead>\n",
       "  <tbody>\n",
       "    <tr>\n",
       "      <th>associate's degree</th>\n",
       "      <td>67.882883</td>\n",
       "      <td>26.0</td>\n",
       "      <td>100.0</td>\n",
       "      <td>69.828883</td>\n",
       "      <td>35.0</td>\n",
       "      <td>100.0</td>\n",
       "      <td>70.927928</td>\n",
       "      <td>31.0</td>\n",
       "      <td>100.0</td>\n",
       "    </tr>\n",
       "    <tr>\n",
       "      <th>bachelor's degree</th>\n",
       "      <td>69.389831</td>\n",
       "      <td>29.0</td>\n",
       "      <td>100.0</td>\n",
       "      <td>73.381356</td>\n",
       "      <td>38.0</td>\n",
       "      <td>100.0</td>\n",
       "      <td>73.033898</td>\n",
       "      <td>41.0</td>\n",
       "      <td>100.0</td>\n",
       "    </tr>\n",
       "    <tr>\n",
       "      <th>high school</th>\n",
       "      <td>62.137755</td>\n",
       "      <td>8.0</td>\n",
       "      <td>99.0</td>\n",
       "      <td>62.448980</td>\n",
       "      <td>15.0</td>\n",
       "      <td>100.0</td>\n",
       "      <td>64.724490</td>\n",
       "      <td>24.0</td>\n",
       "      <td>99.0</td>\n",
       "    </tr>\n",
       "    <tr>\n",
       "      <th>master's degree</th>\n",
       "      <td>69.340086</td>\n",
       "      <td>40.0</td>\n",
       "      <td>95.0</td>\n",
       "      <td>75.220543</td>\n",
       "      <td>46.0</td>\n",
       "      <td>100.0</td>\n",
       "      <td>75.474576</td>\n",
       "      <td>42.0</td>\n",
       "      <td>100.0</td>\n",
       "    </tr>\n",
       "    <tr>\n",
       "      <th>some college</th>\n",
       "      <td>67.128319</td>\n",
       "      <td>19.0</td>\n",
       "      <td>100.0</td>\n",
       "      <td>68.840708</td>\n",
       "      <td>19.0</td>\n",
       "      <td>99.0</td>\n",
       "      <td>69.460988</td>\n",
       "      <td>23.0</td>\n",
       "      <td>100.0</td>\n",
       "    </tr>\n",
       "    <tr>\n",
       "      <th>some high school</th>\n",
       "      <td>63.497207</td>\n",
       "      <td>0.0</td>\n",
       "      <td>97.0</td>\n",
       "      <td>64.888268</td>\n",
       "      <td>10.0</td>\n",
       "      <td>100.0</td>\n",
       "      <td>66.938547</td>\n",
       "      <td>17.0</td>\n",
       "      <td>100.0</td>\n",
       "    </tr>\n",
       "  </tbody>\n",
       "</table>\n",
       "</div>"
      ],
      "text/plain": [
       "                            math_score              writing_score        \\\n",
       "                                  mean   min    max          mean   min   \n",
       "parental_level_of_education                                               \n",
       "associate's degree           67.882883  26.0  100.0     69.828883  35.0   \n",
       "bachelor's degree            69.389831  29.0  100.0     73.381356  38.0   \n",
       "high school                  62.137755   8.0   99.0     62.448980  15.0   \n",
       "master's degree              69.340086  40.0   95.0     75.220543  46.0   \n",
       "some college                 67.128319  19.0  100.0     68.840708  19.0   \n",
       "some high school             63.497207   0.0   97.0     64.888268  10.0   \n",
       "\n",
       "                                   reading_score               \n",
       "                               max          mean   min    max  \n",
       "parental_level_of_education                                    \n",
       "associate's degree           100.0     70.927928  31.0  100.0  \n",
       "bachelor's degree            100.0     73.033898  41.0  100.0  \n",
       "high school                  100.0     64.724490  24.0   99.0  \n",
       "master's degree              100.0     75.474576  42.0  100.0  \n",
       "some college                  99.0     69.460988  23.0  100.0  \n",
       "some high school             100.0     66.938547  17.0  100.0  "
      ]
     },
     "metadata": {},
     "output_type": "display_data"
    }
   ],
   "source": [
    "# Group by 'parental_level_of_education' and compute mean, max and min for each subjects\n",
    "stats_by_parental_level_of_education = dataset.groupby('parental_level_of_education')[['math_score', 'writing_score', 'reading_score']].agg(['mean', 'min', 'max'])\n",
    "\n",
    "# Display the results\n",
    "print(\"Scores Statistics by parental level of education:\")\n",
    "display(stats_by_parental_level_of_education)"
   ]
  },
  {
   "cell_type": "code",
   "execution_count": 132,
   "id": "c9ae03e5-db4a-4fc4-b5a9-0a6bc74fdd6b",
   "metadata": {},
   "outputs": [
    {
     "name": "stdout",
     "output_type": "stream",
     "text": [
      "parental_level_of_education\n",
      "some college          226\n",
      "associate's degree    222\n",
      "high school           196\n",
      "some high school      179\n",
      "bachelor's degree     118\n",
      "master's degree        59\n",
      "Name: count, dtype: int64\n"
     ]
    },
    {
     "data": {
      "image/png": "[encoded data removed]",
      "text/plain": [
       "<Figure size 640x480 with 1 Axes>"
      ]
     },
     "metadata": {},
     "output_type": "display_data"
    }
   ],
   "source": [
    "counts = dataset['parental_level_of_education'].value_counts()\n",
    "print(counts)\n",
    "\n",
    "counts.plot(kind='bar')\n",
    "plt.xlabel('Education Level')\n",
    "plt.ylabel('Count')\n",
    "plt.title('Count of Parental Education Levels')\n",
    "plt.show()"
   ]
  },
  {
   "cell_type": "markdown",
   "id": "0445d431-85a0-4798-983c-3caf901fe63d",
   "metadata": {},
   "source": [
    "<span style=\"font-size: 22pt; font-weight: bold;\">Cinsiyet faktörü</span>"
   ]
  },
  {
   "cell_type": "code",
   "execution_count": 133,
   "id": "63818b87-e39e-4b7a-a020-8e466604e6b0",
   "metadata": {},
   "outputs": [
    {
     "data": {
      "text/markdown": [
       "<span style='font-size:20px;'>Female Students: \n",
       "</span>"
      ],
      "text/plain": [
       "<IPython.core.display.Markdown object>"
      ]
     },
     "metadata": {},
     "output_type": "display_data"
    },
    {
     "data": {
      "text/html": [
       "<div>\n",
       "<style scoped>\n",
       "    .dataframe tbody tr th:only-of-type {\n",
       "        vertical-align: middle;\n",
       "    }\n",
       "\n",
       "    .dataframe tbody tr th {\n",
       "        vertical-align: top;\n",
       "    }\n",
       "\n",
       "    .dataframe thead th {\n",
       "        text-align: right;\n",
       "    }\n",
       "</style>\n",
       "<table border=\"1\" class=\"dataframe\">\n",
       "  <thead>\n",
       "    <tr style=\"text-align: right;\">\n",
       "      <th></th>\n",
       "      <th>gender</th>\n",
       "      <th>race_ethnicity</th>\n",
       "      <th>parental_level_of_education</th>\n",
       "      <th>lunch</th>\n",
       "      <th>test_preparation_course</th>\n",
       "      <th>math_score</th>\n",
       "      <th>reading_score</th>\n",
       "      <th>writing_score</th>\n",
       "    </tr>\n",
       "  </thead>\n",
       "  <tbody>\n",
       "    <tr>\n",
       "      <th>0</th>\n",
       "      <td>female</td>\n",
       "      <td>group B</td>\n",
       "      <td>bachelor's degree</td>\n",
       "      <td>ate</td>\n",
       "      <td>none</td>\n",
       "      <td>72.000000</td>\n",
       "      <td>72.0</td>\n",
       "      <td>74.000000</td>\n",
       "    </tr>\n",
       "    <tr>\n",
       "      <th>1</th>\n",
       "      <td>female</td>\n",
       "      <td>group C</td>\n",
       "      <td>some college</td>\n",
       "      <td>ate</td>\n",
       "      <td>completed</td>\n",
       "      <td>69.000000</td>\n",
       "      <td>90.0</td>\n",
       "      <td>88.000000</td>\n",
       "    </tr>\n",
       "    <tr>\n",
       "      <th>2</th>\n",
       "      <td>female</td>\n",
       "      <td>group B</td>\n",
       "      <td>master's degree</td>\n",
       "      <td>ate</td>\n",
       "      <td>none</td>\n",
       "      <td>66.065065</td>\n",
       "      <td>95.0</td>\n",
       "      <td>93.000000</td>\n",
       "    </tr>\n",
       "    <tr>\n",
       "      <th>5</th>\n",
       "      <td>female</td>\n",
       "      <td>group B</td>\n",
       "      <td>associate's degree</td>\n",
       "      <td>ate</td>\n",
       "      <td>none</td>\n",
       "      <td>71.000000</td>\n",
       "      <td>83.0</td>\n",
       "      <td>78.000000</td>\n",
       "    </tr>\n",
       "    <tr>\n",
       "      <th>6</th>\n",
       "      <td>female</td>\n",
       "      <td>group B</td>\n",
       "      <td>some college</td>\n",
       "      <td>ate</td>\n",
       "      <td>completed</td>\n",
       "      <td>88.000000</td>\n",
       "      <td>95.0</td>\n",
       "      <td>92.000000</td>\n",
       "    </tr>\n",
       "    <tr>\n",
       "      <th>...</th>\n",
       "      <td>...</td>\n",
       "      <td>...</td>\n",
       "      <td>...</td>\n",
       "      <td>...</td>\n",
       "      <td>...</td>\n",
       "      <td>...</td>\n",
       "      <td>...</td>\n",
       "      <td>...</td>\n",
       "    </tr>\n",
       "    <tr>\n",
       "      <th>993</th>\n",
       "      <td>female</td>\n",
       "      <td>group D</td>\n",
       "      <td>bachelor's degree</td>\n",
       "      <td>Didn't eat</td>\n",
       "      <td>none</td>\n",
       "      <td>62.000000</td>\n",
       "      <td>72.0</td>\n",
       "      <td>74.000000</td>\n",
       "    </tr>\n",
       "    <tr>\n",
       "      <th>995</th>\n",
       "      <td>female</td>\n",
       "      <td>group E</td>\n",
       "      <td>master's degree</td>\n",
       "      <td>ate</td>\n",
       "      <td>completed</td>\n",
       "      <td>88.000000</td>\n",
       "      <td>99.0</td>\n",
       "      <td>68.012024</td>\n",
       "    </tr>\n",
       "    <tr>\n",
       "      <th>997</th>\n",
       "      <td>female</td>\n",
       "      <td>group C</td>\n",
       "      <td>high school</td>\n",
       "      <td>Didn't eat</td>\n",
       "      <td>completed</td>\n",
       "      <td>59.000000</td>\n",
       "      <td>71.0</td>\n",
       "      <td>65.000000</td>\n",
       "    </tr>\n",
       "    <tr>\n",
       "      <th>998</th>\n",
       "      <td>female</td>\n",
       "      <td>group D</td>\n",
       "      <td>some college</td>\n",
       "      <td>ate</td>\n",
       "      <td>completed</td>\n",
       "      <td>68.000000</td>\n",
       "      <td>78.0</td>\n",
       "      <td>77.000000</td>\n",
       "    </tr>\n",
       "    <tr>\n",
       "      <th>999</th>\n",
       "      <td>female</td>\n",
       "      <td>group D</td>\n",
       "      <td>some college</td>\n",
       "      <td>Didn't eat</td>\n",
       "      <td>none</td>\n",
       "      <td>77.000000</td>\n",
       "      <td>86.0</td>\n",
       "      <td>86.000000</td>\n",
       "    </tr>\n",
       "  </tbody>\n",
       "</table>\n",
       "<p>518 rows × 8 columns</p>\n",
       "</div>"
      ],
      "text/plain": [
       "     gender race_ethnicity parental_level_of_education       lunch  \\\n",
       "0    female        group B           bachelor's degree         ate   \n",
       "1    female        group C                some college         ate   \n",
       "2    female        group B             master's degree         ate   \n",
       "5    female        group B          associate's degree         ate   \n",
       "6    female        group B                some college         ate   \n",
       "..      ...            ...                         ...         ...   \n",
       "993  female        group D           bachelor's degree  Didn't eat   \n",
       "995  female        group E             master's degree         ate   \n",
       "997  female        group C                 high school  Didn't eat   \n",
       "998  female        group D                some college         ate   \n",
       "999  female        group D                some college  Didn't eat   \n",
       "\n",
       "    test_preparation_course  math_score  reading_score  writing_score  \n",
       "0                      none   72.000000           72.0      74.000000  \n",
       "1                 completed   69.000000           90.0      88.000000  \n",
       "2                      none   66.065065           95.0      93.000000  \n",
       "5                      none   71.000000           83.0      78.000000  \n",
       "6                 completed   88.000000           95.0      92.000000  \n",
       "..                      ...         ...            ...            ...  \n",
       "993                    none   62.000000           72.0      74.000000  \n",
       "995               completed   88.000000           99.0      68.012024  \n",
       "997               completed   59.000000           71.0      65.000000  \n",
       "998               completed   68.000000           78.0      77.000000  \n",
       "999                    none   77.000000           86.0      86.000000  \n",
       "\n",
       "[518 rows x 8 columns]"
      ]
     },
     "metadata": {},
     "output_type": "display_data"
    },
    {
     "data": {
      "text/markdown": [
       "<span style='font-size:20px;'>Male Students: \n",
       "</span>"
      ],
      "text/plain": [
       "<IPython.core.display.Markdown object>"
      ]
     },
     "metadata": {},
     "output_type": "display_data"
    },
    {
     "data": {
      "text/html": [
       "<div>\n",
       "<style scoped>\n",
       "    .dataframe tbody tr th:only-of-type {\n",
       "        vertical-align: middle;\n",
       "    }\n",
       "\n",
       "    .dataframe tbody tr th {\n",
       "        vertical-align: top;\n",
       "    }\n",
       "\n",
       "    .dataframe thead th {\n",
       "        text-align: right;\n",
       "    }\n",
       "</style>\n",
       "<table border=\"1\" class=\"dataframe\">\n",
       "  <thead>\n",
       "    <tr style=\"text-align: right;\">\n",
       "      <th></th>\n",
       "      <th>gender</th>\n",
       "      <th>race_ethnicity</th>\n",
       "      <th>parental_level_of_education</th>\n",
       "      <th>lunch</th>\n",
       "      <th>test_preparation_course</th>\n",
       "      <th>math_score</th>\n",
       "      <th>reading_score</th>\n",
       "      <th>writing_score</th>\n",
       "    </tr>\n",
       "  </thead>\n",
       "  <tbody>\n",
       "    <tr>\n",
       "      <th>3</th>\n",
       "      <td>male</td>\n",
       "      <td>group A</td>\n",
       "      <td>associate's degree</td>\n",
       "      <td>Didn't eat</td>\n",
       "      <td>none</td>\n",
       "      <td>47.0</td>\n",
       "      <td>57.0</td>\n",
       "      <td>44.0</td>\n",
       "    </tr>\n",
       "    <tr>\n",
       "      <th>4</th>\n",
       "      <td>male</td>\n",
       "      <td>group C</td>\n",
       "      <td>some college</td>\n",
       "      <td>ate</td>\n",
       "      <td>none</td>\n",
       "      <td>76.0</td>\n",
       "      <td>78.0</td>\n",
       "      <td>75.0</td>\n",
       "    </tr>\n",
       "    <tr>\n",
       "      <th>7</th>\n",
       "      <td>male</td>\n",
       "      <td>group B</td>\n",
       "      <td>some college</td>\n",
       "      <td>Didn't eat</td>\n",
       "      <td>none</td>\n",
       "      <td>40.0</td>\n",
       "      <td>43.0</td>\n",
       "      <td>39.0</td>\n",
       "    </tr>\n",
       "    <tr>\n",
       "      <th>8</th>\n",
       "      <td>male</td>\n",
       "      <td>group D</td>\n",
       "      <td>high school</td>\n",
       "      <td>Didn't eat</td>\n",
       "      <td>completed</td>\n",
       "      <td>64.0</td>\n",
       "      <td>64.0</td>\n",
       "      <td>67.0</td>\n",
       "    </tr>\n",
       "    <tr>\n",
       "      <th>10</th>\n",
       "      <td>male</td>\n",
       "      <td>group C</td>\n",
       "      <td>associate's degree</td>\n",
       "      <td>ate</td>\n",
       "      <td>none</td>\n",
       "      <td>58.0</td>\n",
       "      <td>54.0</td>\n",
       "      <td>52.0</td>\n",
       "    </tr>\n",
       "    <tr>\n",
       "      <th>...</th>\n",
       "      <td>...</td>\n",
       "      <td>...</td>\n",
       "      <td>...</td>\n",
       "      <td>...</td>\n",
       "      <td>...</td>\n",
       "      <td>...</td>\n",
       "      <td>...</td>\n",
       "      <td>...</td>\n",
       "    </tr>\n",
       "    <tr>\n",
       "      <th>985</th>\n",
       "      <td>male</td>\n",
       "      <td>group A</td>\n",
       "      <td>high school</td>\n",
       "      <td>ate</td>\n",
       "      <td>none</td>\n",
       "      <td>57.0</td>\n",
       "      <td>51.0</td>\n",
       "      <td>54.0</td>\n",
       "    </tr>\n",
       "    <tr>\n",
       "      <th>987</th>\n",
       "      <td>male</td>\n",
       "      <td>group E</td>\n",
       "      <td>some high school</td>\n",
       "      <td>ate</td>\n",
       "      <td>completed</td>\n",
       "      <td>81.0</td>\n",
       "      <td>75.0</td>\n",
       "      <td>76.0</td>\n",
       "    </tr>\n",
       "    <tr>\n",
       "      <th>990</th>\n",
       "      <td>male</td>\n",
       "      <td>group E</td>\n",
       "      <td>high school</td>\n",
       "      <td>Didn't eat</td>\n",
       "      <td>completed</td>\n",
       "      <td>86.0</td>\n",
       "      <td>81.0</td>\n",
       "      <td>75.0</td>\n",
       "    </tr>\n",
       "    <tr>\n",
       "      <th>994</th>\n",
       "      <td>male</td>\n",
       "      <td>group A</td>\n",
       "      <td>high school</td>\n",
       "      <td>ate</td>\n",
       "      <td>none</td>\n",
       "      <td>63.0</td>\n",
       "      <td>63.0</td>\n",
       "      <td>62.0</td>\n",
       "    </tr>\n",
       "    <tr>\n",
       "      <th>996</th>\n",
       "      <td>male</td>\n",
       "      <td>group C</td>\n",
       "      <td>high school</td>\n",
       "      <td>Didn't eat</td>\n",
       "      <td>none</td>\n",
       "      <td>62.0</td>\n",
       "      <td>55.0</td>\n",
       "      <td>55.0</td>\n",
       "    </tr>\n",
       "  </tbody>\n",
       "</table>\n",
       "<p>482 rows × 8 columns</p>\n",
       "</div>"
      ],
      "text/plain": [
       "    gender race_ethnicity parental_level_of_education       lunch  \\\n",
       "3     male        group A          associate's degree  Didn't eat   \n",
       "4     male        group C                some college         ate   \n",
       "7     male        group B                some college  Didn't eat   \n",
       "8     male        group D                 high school  Didn't eat   \n",
       "10    male        group C          associate's degree         ate   \n",
       "..     ...            ...                         ...         ...   \n",
       "985   male        group A                 high school         ate   \n",
       "987   male        group E            some high school         ate   \n",
       "990   male        group E                 high school  Didn't eat   \n",
       "994   male        group A                 high school         ate   \n",
       "996   male        group C                 high school  Didn't eat   \n",
       "\n",
       "    test_preparation_course  math_score  reading_score  writing_score  \n",
       "3                      none        47.0           57.0           44.0  \n",
       "4                      none        76.0           78.0           75.0  \n",
       "7                      none        40.0           43.0           39.0  \n",
       "8                 completed        64.0           64.0           67.0  \n",
       "10                     none        58.0           54.0           52.0  \n",
       "..                      ...         ...            ...            ...  \n",
       "985                    none        57.0           51.0           54.0  \n",
       "987               completed        81.0           75.0           76.0  \n",
       "990               completed        86.0           81.0           75.0  \n",
       "994                    none        63.0           63.0           62.0  \n",
       "996                    none        62.0           55.0           55.0  \n",
       "\n",
       "[482 rows x 8 columns]"
      ]
     },
     "metadata": {},
     "output_type": "display_data"
    }
   ],
   "source": [
    "from IPython.display import Markdown, display\n",
    "\n",
    "female_anakutle = dataset[dataset['gender'] == 'female']\n",
    "male_anakutle = dataset[dataset['gender'] == 'male']\n",
    "\n",
    "display(Markdown(f\"<span style='font-size:20px;'>Female Students: \\n</span>\"))\n",
    "display(female_anakutle)\n",
    "\n",
    "display(Markdown(f\"<span style='font-size:20px;'>Male Students: \\n</span>\"))\n",
    "display(male_anakutle)"
   ]
  },
  {
   "cell_type": "markdown",
   "id": "17555c3b-a333-4ed6-986b-3b4af7437238",
   "metadata": {},
   "source": [
    "<span style=\"font-size: 23pt; font-weight: bold; color:plum\">Histogram Chart</span>"
   ]
  },
  {
   "cell_type": "code",
   "execution_count": 134,
   "id": "bd610531-da30-4f0f-9d26-539378af8e6d",
   "metadata": {},
   "outputs": [
    {
     "data": {
      "image/png": "[encoded data removed]",
      "text/plain": [
       "<Figure size 800x500 with 1 Axes>"
      ]
     },
     "metadata": {},
     "output_type": "display_data"
    }
   ],
   "source": [
    "from scipy.stats import norm\n",
    "import numpy as np\n",
    "\n",
    "average_score_female_values = female_anakutle[['math_score', 'reading_score', 'writing_score']].values.flatten()\n",
    "\n",
    "# Create a histogram\n",
    "plt.figure(figsize=(8, 5))\n",
    "plt.hist(average_score_female_values, bins=10, color='pink', edgecolor='black', alpha=0.7, density=True)\n",
    "\n",
    "# Fit a normal distribution to the data\n",
    "mu, std = norm.fit(average_score_female_values)\n",
    "\n",
    "# Plot the PDF\n",
    "xmin, xmax = plt.xlim()\n",
    "x = np.linspace(xmin, xmax, 100)\n",
    "p = norm.pdf(x, mu, std)\n",
    "plt.plot(x, p, 'r', linewidth=1)\n",
    "\n",
    "plt.xlabel('Score')\n",
    "plt.ylabel('Frequency')\n",
    "plt.title('Distribution of Female Student Scores')\n",
    "plt.grid(axis='y', linestyle='--', alpha=0.7)\n",
    "plt.show()"
   ]
  },
  {
   "cell_type": "code",
   "execution_count": 135,
   "id": "31b73def-2d22-4f8d-9054-8135f18fb536",
   "metadata": {},
   "outputs": [
    {
     "data": {
      "image/png": "[encoded data removed]",
      "text/plain": [
       "<Figure size 800x600 with 1 Axes>"
      ]
     },
     "metadata": {},
     "output_type": "display_data"
    }
   ],
   "source": [
    "average_score_male_values = male_anakutle[['math_score', 'reading_score', 'writing_score']].values.flatten()\n",
    "\n",
    "# Create a histogram\n",
    "plt.figure(figsize=(8, 6))\n",
    "plt.hist(average_score_male_values, bins=10, color='cyan', edgecolor='black', alpha=0.7, density=True)\n",
    "\n",
    "# Fit a normal distribution to the data\n",
    "mu, std = norm.fit(average_score_male_values)\n",
    "\n",
    "# Plot the PDF\n",
    "xmin, xmax = plt.xlim()\n",
    "x = np.linspace(xmin, xmax, 100)\n",
    "p = norm.pdf(x, mu, std)\n",
    "plt.plot(x, p, 'r', linewidth=1)  # Change 'k' to 'r' for red color and linewidth to 1 for a thinner line\n",
    "\n",
    "plt.xlabel('Score')\n",
    "plt.ylabel('Frequency')\n",
    "plt.title('Distribution of Male Student Scores')\n",
    "plt.grid(axis='y', linestyle='--', alpha=0.7)\n",
    "plt.show()"
   ]
  },
  {
   "cell_type": "markdown",
   "id": "5102f247-ea50-4592-90d7-05987f0af677",
   "metadata": {},
   "source": [
    "<span style=\"font-size: 28pt; font-weight: bold; color:plum\">İki Anakütle Ortalamasının Z testi</span>"
   ]
  },
  {
   "cell_type": "markdown",
   "id": "6eb7ddc8-8b90-4666-86d7-52bc84b03f46",
   "metadata": {},
   "source": [
    "<span style=\"font-size: 20pt; \">.   ilk olarak her anakütlenin varyansları buluruz</span>"
   ]
  },
  {
   "cell_type": "code",
   "execution_count": 136,
   "id": "5abf4db7-033e-406e-8ae6-f02a388db03f",
   "metadata": {},
   "outputs": [
    {
     "data": {
      "text/markdown": [
       "<span style='font-size:15px;'>Male Ana Kutle Varyansi: 199.88</span>"
      ],
      "text/plain": [
       "<IPython.core.display.Markdown object>"
      ]
     },
     "metadata": {},
     "output_type": "display_data"
    },
    {
     "data": {
      "text/markdown": [
       "<span style='font-size:15px;'>Female Ana Kutle Varyansi: 221.54</span>"
      ],
      "text/plain": [
       "<IPython.core.display.Markdown object>"
      ]
     },
     "metadata": {},
     "output_type": "display_data"
    }
   ],
   "source": [
    "from IPython.display import Markdown, display\n",
    "\n",
    "male_df = dataset[dataset['gender'] == 'male']\n",
    "math_variance = male_df['math_score'].var()\n",
    "reading_variance = male_df['reading_score'].var()\n",
    "writing_variance = male_df['writing_score'].var()\n",
    "overall_variance_male = (math_variance + reading_variance + writing_variance) / 3\n",
    "display(Markdown(f\"<span style='font-size:15px;'>Male Ana Kutle Varyansi: {overall_variance_male:.2f}</span>\"))\n",
    "\n",
    "female_df = dataset[dataset['gender'] == 'female']\n",
    "math_variance = female_df['math_score'].var()\n",
    "reading_variance = female_df['reading_score'].var()\n",
    "writing_variance = female_df['writing_score'].var()\n",
    "overall_variance_female = (math_variance + reading_variance + writing_variance) / 3\n",
    "display(Markdown(f\"<span style='font-size:15px;'>Female Ana Kutle Varyansi: {overall_variance_female:.2f}</span>\"))"
   ]
  },
  {
   "cell_type": "markdown",
   "id": "2de32808-bfbe-4b9d-a2cd-79b17ed5c59f",
   "metadata": {},
   "source": [
    "<span style=\"font-size: 20pt; \">Sonra her anakütleden örneklem alıp onun ortalaması hesaplarız</span>"
   ]
  },
  {
   "cell_type": "code",
   "execution_count": 137,
   "id": "5d07c476-4f3b-4cba-9a00-1389acfd41a7",
   "metadata": {},
   "outputs": [
    {
     "data": {
      "text/markdown": [
       "<span style='font-size:15px;'>Number of females’ samples: 50</span>"
      ],
      "text/plain": [
       "<IPython.core.display.Markdown object>"
      ]
     },
     "metadata": {},
     "output_type": "display_data"
    },
    {
     "data": {
      "text/markdown": [
       "<span style='font-size:15px;'>Average scores for females’ sample (across all subjects): 66.22</span>"
      ],
      "text/plain": [
       "<IPython.core.display.Markdown object>"
      ]
     },
     "metadata": {},
     "output_type": "display_data"
    }
   ],
   "source": [
    "female_orneklem = dataset[dataset['gender'] == 'female'].head(50)\n",
    "#display(female_orneklem)\n",
    "\n",
    "N1 = len(female_orneklem)\n",
    "display(Markdown(f\"<span style='font-size:15px;'>Number of females’ samples: {N1}</span>\"))\n",
    "\n",
    "average_score_female_orneklem = female_orneklem[['math_score','reading_score','writing_score']].mean().mean()\n",
    "display(Markdown(f\"<span style='font-size:15px;'>Average scores for females’ sample (across all subjects): {average_score_female_orneklem:.2f}</span>\"))\n",
    "\n",
    "\n",
    "\n"
   ]
  },
  {
   "cell_type": "code",
   "execution_count": 138,
   "id": "0e7c9021-a6e3-4855-8d0c-7fcdb52db041",
   "metadata": {},
   "outputs": [
    {
     "data": {
      "text/markdown": [
       "<span style='font-size:15px;'>Number of males’ samples: 50</span>"
      ],
      "text/plain": [
       "<IPython.core.display.Markdown object>"
      ]
     },
     "metadata": {},
     "output_type": "display_data"
    },
    {
     "data": {
      "text/markdown": [
       "<span style='font-size:15px;'>Average scores for males’ sample (across all subjects): 59.21</span>"
      ],
      "text/plain": [
       "<IPython.core.display.Markdown object>"
      ]
     },
     "metadata": {},
     "output_type": "display_data"
    }
   ],
   "source": [
    "male_orneklem = dataset[dataset['gender'] == 'male'].head(50)\n",
    "#display(male_orneklem)\n",
    "\n",
    "N2 = len(male_orneklem)\n",
    "display(Markdown(f\"<span style='font-size:15px;'>Number of males’ samples: {N2}</span>\"))\n",
    "\n",
    "average_score_male_orneklem = male_orneklem[['math_score','reading_score','writing_score']].mean().mean()\n",
    "display(Markdown(f\"<span style='font-size:15px;'>Average scores for males’ sample (across all subjects): {average_score_male_orneklem:.2f}</span>\"))"
   ]
  },
  {
   "cell_type": "markdown",
   "id": "dbee2a90-b074-4d51-bbbd-5de32a1f8935",
   "metadata": {},
   "source": [
    "<span style=\"font-size: 20pt; \">Son olarak hipotezler kurup Z test uygulanırız</span>"
   ]
  },
  {
   "cell_type": "code",
   "execution_count": 139,
   "id": "2ed53d99-4c32-435d-99ab-43231f0fc22d",
   "metadata": {},
   "outputs": [
    {
     "name": "stdout",
     "output_type": "stream",
     "text": [
      "z-test Score: 2.4163630859267653, p-value: 0.007838210283742097\n"
     ]
    },
    {
     "data": {
      "text/markdown": [
       "<span style='font-size:15px;'>.  H0 reddedilir \n",
       "  μFemale > μMale</span>"
      ],
      "text/plain": [
       "<IPython.core.display.Markdown object>"
      ]
     },
     "metadata": {},
     "output_type": "display_data"
    }
   ],
   "source": [
    "# (H0):  μFemale = μMale\n",
    "# (H1):  μFemale > μMale\n",
    "# 0.05 Anlam düzeyle\n",
    "\n",
    "import scipy.stats as stats\n",
    "\n",
    "# Calculate the Z-score \n",
    "z_score = (average_score_female_orneklem - average_score_male_orneklem) / (overall_variance_female/50 + overall_variance_male/50) **0.5\n",
    "p = 1-stats.norm.cdf(z_score)\n",
    "print(f\"z-test Score: {z_score}, p-value: {p}\")\n",
    "\n",
    "# Apply Z-test\n",
    "alpha = 0.05\n",
    "if (p < alpha):\n",
    "    display(Markdown(f\"<span style='font-size:15px;'>.  H0 reddedilir \\n  μFemale > μMale</span>\"))\n",
    "else:\n",
    "    display(Markdown(f\"<span style='font-size:15px;'>.  H0 reddedilmez ; μFemale = μMale</span>\"))"
   ]
  },
  {
   "cell_type": "markdown",
   "id": "d408d121-4021-49a0-bc9e-2aa3cc2ff53b",
   "metadata": {},
   "source": [
    "<span style=\"font-size: 22pt; font-weight: bold;\">Yemek faktörü</span>"
   ]
  },
  {
   "cell_type": "code",
   "execution_count": 140,
   "id": "5f3d9d07-042f-470f-ab0b-ab45dee13a61",
   "metadata": {},
   "outputs": [
    {
     "data": {
      "text/markdown": [
       "<span style='font-size:15px;'>Students who ate lunch bafore test: \n",
       "</span>"
      ],
      "text/plain": [
       "<IPython.core.display.Markdown object>"
      ]
     },
     "metadata": {},
     "output_type": "display_data"
    },
    {
     "data": {
      "text/html": [
       "<div>\n",
       "<style scoped>\n",
       "    .dataframe tbody tr th:only-of-type {\n",
       "        vertical-align: middle;\n",
       "    }\n",
       "\n",
       "    .dataframe tbody tr th {\n",
       "        vertical-align: top;\n",
       "    }\n",
       "\n",
       "    .dataframe thead th {\n",
       "        text-align: right;\n",
       "    }\n",
       "</style>\n",
       "<table border=\"1\" class=\"dataframe\">\n",
       "  <thead>\n",
       "    <tr style=\"text-align: right;\">\n",
       "      <th></th>\n",
       "      <th>lunch</th>\n",
       "      <th>math_score</th>\n",
       "      <th>reading_score</th>\n",
       "      <th>writing_score</th>\n",
       "    </tr>\n",
       "  </thead>\n",
       "  <tbody>\n",
       "    <tr>\n",
       "      <th>0</th>\n",
       "      <td>ate</td>\n",
       "      <td>72.000000</td>\n",
       "      <td>72.0</td>\n",
       "      <td>74.000000</td>\n",
       "    </tr>\n",
       "    <tr>\n",
       "      <th>1</th>\n",
       "      <td>ate</td>\n",
       "      <td>69.000000</td>\n",
       "      <td>90.0</td>\n",
       "      <td>88.000000</td>\n",
       "    </tr>\n",
       "    <tr>\n",
       "      <th>2</th>\n",
       "      <td>ate</td>\n",
       "      <td>66.065065</td>\n",
       "      <td>95.0</td>\n",
       "      <td>93.000000</td>\n",
       "    </tr>\n",
       "    <tr>\n",
       "      <th>4</th>\n",
       "      <td>ate</td>\n",
       "      <td>76.000000</td>\n",
       "      <td>78.0</td>\n",
       "      <td>75.000000</td>\n",
       "    </tr>\n",
       "    <tr>\n",
       "      <th>5</th>\n",
       "      <td>ate</td>\n",
       "      <td>71.000000</td>\n",
       "      <td>83.0</td>\n",
       "      <td>78.000000</td>\n",
       "    </tr>\n",
       "    <tr>\n",
       "      <th>...</th>\n",
       "      <td>...</td>\n",
       "      <td>...</td>\n",
       "      <td>...</td>\n",
       "      <td>...</td>\n",
       "    </tr>\n",
       "    <tr>\n",
       "      <th>987</th>\n",
       "      <td>ate</td>\n",
       "      <td>81.000000</td>\n",
       "      <td>75.0</td>\n",
       "      <td>76.000000</td>\n",
       "    </tr>\n",
       "    <tr>\n",
       "      <th>991</th>\n",
       "      <td>ate</td>\n",
       "      <td>65.000000</td>\n",
       "      <td>82.0</td>\n",
       "      <td>78.000000</td>\n",
       "    </tr>\n",
       "    <tr>\n",
       "      <th>994</th>\n",
       "      <td>ate</td>\n",
       "      <td>63.000000</td>\n",
       "      <td>63.0</td>\n",
       "      <td>62.000000</td>\n",
       "    </tr>\n",
       "    <tr>\n",
       "      <th>995</th>\n",
       "      <td>ate</td>\n",
       "      <td>88.000000</td>\n",
       "      <td>99.0</td>\n",
       "      <td>68.012024</td>\n",
       "    </tr>\n",
       "    <tr>\n",
       "      <th>998</th>\n",
       "      <td>ate</td>\n",
       "      <td>68.000000</td>\n",
       "      <td>78.0</td>\n",
       "      <td>77.000000</td>\n",
       "    </tr>\n",
       "  </tbody>\n",
       "</table>\n",
       "<p>645 rows × 4 columns</p>\n",
       "</div>"
      ],
      "text/plain": [
       "    lunch  math_score  reading_score  writing_score\n",
       "0     ate   72.000000           72.0      74.000000\n",
       "1     ate   69.000000           90.0      88.000000\n",
       "2     ate   66.065065           95.0      93.000000\n",
       "4     ate   76.000000           78.0      75.000000\n",
       "5     ate   71.000000           83.0      78.000000\n",
       "..    ...         ...            ...            ...\n",
       "987   ate   81.000000           75.0      76.000000\n",
       "991   ate   65.000000           82.0      78.000000\n",
       "994   ate   63.000000           63.0      62.000000\n",
       "995   ate   88.000000           99.0      68.012024\n",
       "998   ate   68.000000           78.0      77.000000\n",
       "\n",
       "[645 rows x 4 columns]"
      ]
     },
     "metadata": {},
     "output_type": "display_data"
    },
    {
     "data": {
      "text/plain": [
       "'\\n'"
      ]
     },
     "metadata": {},
     "output_type": "display_data"
    },
    {
     "data": {
      "text/markdown": [
       "\n",
       " <span style='font-size:15px;'>Students who didn't eat lunch bafore test: \n",
       "</span>"
      ],
      "text/plain": [
       "<IPython.core.display.Markdown object>"
      ]
     },
     "metadata": {},
     "output_type": "display_data"
    },
    {
     "data": {
      "text/html": [
       "<div>\n",
       "<style scoped>\n",
       "    .dataframe tbody tr th:only-of-type {\n",
       "        vertical-align: middle;\n",
       "    }\n",
       "\n",
       "    .dataframe tbody tr th {\n",
       "        vertical-align: top;\n",
       "    }\n",
       "\n",
       "    .dataframe thead th {\n",
       "        text-align: right;\n",
       "    }\n",
       "</style>\n",
       "<table border=\"1\" class=\"dataframe\">\n",
       "  <thead>\n",
       "    <tr style=\"text-align: right;\">\n",
       "      <th></th>\n",
       "      <th>lunch</th>\n",
       "      <th>math_score</th>\n",
       "      <th>reading_score</th>\n",
       "      <th>writing_score</th>\n",
       "    </tr>\n",
       "  </thead>\n",
       "  <tbody>\n",
       "    <tr>\n",
       "      <th>3</th>\n",
       "      <td>Didn't eat</td>\n",
       "      <td>47.0</td>\n",
       "      <td>57.0</td>\n",
       "      <td>44.0</td>\n",
       "    </tr>\n",
       "    <tr>\n",
       "      <th>7</th>\n",
       "      <td>Didn't eat</td>\n",
       "      <td>40.0</td>\n",
       "      <td>43.0</td>\n",
       "      <td>39.0</td>\n",
       "    </tr>\n",
       "    <tr>\n",
       "      <th>8</th>\n",
       "      <td>Didn't eat</td>\n",
       "      <td>64.0</td>\n",
       "      <td>64.0</td>\n",
       "      <td>67.0</td>\n",
       "    </tr>\n",
       "    <tr>\n",
       "      <th>9</th>\n",
       "      <td>Didn't eat</td>\n",
       "      <td>38.0</td>\n",
       "      <td>60.0</td>\n",
       "      <td>50.0</td>\n",
       "    </tr>\n",
       "    <tr>\n",
       "      <th>17</th>\n",
       "      <td>Didn't eat</td>\n",
       "      <td>18.0</td>\n",
       "      <td>32.0</td>\n",
       "      <td>28.0</td>\n",
       "    </tr>\n",
       "    <tr>\n",
       "      <th>...</th>\n",
       "      <td>...</td>\n",
       "      <td>...</td>\n",
       "      <td>...</td>\n",
       "      <td>...</td>\n",
       "    </tr>\n",
       "    <tr>\n",
       "      <th>992</th>\n",
       "      <td>Didn't eat</td>\n",
       "      <td>55.0</td>\n",
       "      <td>76.0</td>\n",
       "      <td>76.0</td>\n",
       "    </tr>\n",
       "    <tr>\n",
       "      <th>993</th>\n",
       "      <td>Didn't eat</td>\n",
       "      <td>62.0</td>\n",
       "      <td>72.0</td>\n",
       "      <td>74.0</td>\n",
       "    </tr>\n",
       "    <tr>\n",
       "      <th>996</th>\n",
       "      <td>Didn't eat</td>\n",
       "      <td>62.0</td>\n",
       "      <td>55.0</td>\n",
       "      <td>55.0</td>\n",
       "    </tr>\n",
       "    <tr>\n",
       "      <th>997</th>\n",
       "      <td>Didn't eat</td>\n",
       "      <td>59.0</td>\n",
       "      <td>71.0</td>\n",
       "      <td>65.0</td>\n",
       "    </tr>\n",
       "    <tr>\n",
       "      <th>999</th>\n",
       "      <td>Didn't eat</td>\n",
       "      <td>77.0</td>\n",
       "      <td>86.0</td>\n",
       "      <td>86.0</td>\n",
       "    </tr>\n",
       "  </tbody>\n",
       "</table>\n",
       "<p>355 rows × 4 columns</p>\n",
       "</div>"
      ],
      "text/plain": [
       "          lunch  math_score  reading_score  writing_score\n",
       "3    Didn't eat        47.0           57.0           44.0\n",
       "7    Didn't eat        40.0           43.0           39.0\n",
       "8    Didn't eat        64.0           64.0           67.0\n",
       "9    Didn't eat        38.0           60.0           50.0\n",
       "17   Didn't eat        18.0           32.0           28.0\n",
       "..          ...         ...            ...            ...\n",
       "992  Didn't eat        55.0           76.0           76.0\n",
       "993  Didn't eat        62.0           72.0           74.0\n",
       "996  Didn't eat        62.0           55.0           55.0\n",
       "997  Didn't eat        59.0           71.0           65.0\n",
       "999  Didn't eat        77.0           86.0           86.0\n",
       "\n",
       "[355 rows x 4 columns]"
      ]
     },
     "metadata": {},
     "output_type": "display_data"
    }
   ],
   "source": [
    "with_Lunch = dataset[dataset['lunch'] == 'ate']\n",
    "without_Lunch = dataset[dataset['lunch'] == \"Didn't eat\"]\n",
    "\n",
    "display(Markdown(f\"<span style='font-size:15px;'>Students who ate lunch bafore test: \\n</span>\"))\n",
    "display(with_Lunch[ ['lunch' , 'math_score' , 'reading_score' , 'writing_score'] ] , \"\\n\")\n",
    "display(Markdown(f\"\\n <span style='font-size:15px;'>Students who didn't eat lunch bafore test: \\n</span>\"))\n",
    "display(without_Lunch[ ['lunch' , 'math_score' , 'reading_score' , 'writing_score'] ])"
   ]
  },
  {
   "attachments": {},
   "cell_type": "markdown",
   "id": "49596fae-aba5-4f9e-83db-c450f3c136f8",
   "metadata": {},
   "source": [
    "<span style=\"font-size: 23pt; font-weight: bold; color:plum\">Box Plot  ve Kolmogorov-Smirnov Test</span>"
   ]
  },
  {
   "cell_type": "code",
   "execution_count": 141,
   "id": "973342de-55b6-40d6-8f89-a62ee500cc18",
   "metadata": {},
   "outputs": [
    {
     "data": {
      "image/png": "[encoded data removed]",
      "text/plain": [
       "<Figure size 600x400 with 1 Axes>"
      ]
     },
     "metadata": {},
     "output_type": "display_data"
    }
   ],
   "source": [
    "with_Lunch_Scores = np.hstack([with_Lunch['math_score'] ,with_Lunch['reading_score'] ,with_Lunch['writing_score']])\n",
    "\n",
    "plt.figure(figsize=(6, 4))\n",
    "plt.boxplot([with_Lunch_Scores], labels=['Student Scores'], showmeans=True)\n",
    "plt.title('Scores for Students with Lunch')\n",
    "plt.ylabel('Score')\n",
    "plt.grid(True)\n",
    "plt.show()"
   ]
  },
  {
   "cell_type": "code",
   "execution_count": 142,
   "id": "23f208a8-8ae5-4128-8d58-cd4da4026936",
   "metadata": {},
   "outputs": [
    {
     "name": "stdout",
     "output_type": "stream",
     "text": [
      "Kolmogorov-Smirnov Test:\n",
      "Test Statistic: 0.0280569602427031\n",
      "P-value: 0.09326765411232774\n",
      "The scores Follow A Normal Distribution\n"
     ]
    }
   ],
   "source": [
    "from scipy.stats import kstest, norm\n",
    "\n",
    "# Perform the Kolmogorov-Smirnov test\n",
    "with_Lunch_kstest_result = kstest(with_Lunch_Scores  , 'norm' , args=(with_Lunch_Scores.mean(), with_Lunch_Scores.std()))\n",
    "\n",
    "# Get the test statistic and p-value\n",
    "with_Lunch_test_statistic = with_Lunch_kstest_result.statistic\n",
    "with_Lunch_p_value = with_Lunch_kstest_result.pvalue\n",
    "\n",
    "# Print the result\n",
    "print(\"Kolmogorov-Smirnov Test:\")\n",
    "print(f\"Test Statistic: {with_Lunch_test_statistic}\")\n",
    "print(f\"P-value: {with_Lunch_p_value}\")\n",
    "\n",
    "# Check if the scores follow a normal distribution\n",
    "Alpha = 0.05\n",
    "if with_Lunch_p_value < Alpha:\n",
    "    print(\"The scores Do Not Follow A Normal Distribution\")\n",
    "else:\n",
    "    print(\"The scores Follow A Normal Distribution\")"
   ]
  },
  {
   "cell_type": "code",
   "execution_count": 143,
   "id": "ff60ece2-39c6-4f91-a57e-9f517234edd5",
   "metadata": {},
   "outputs": [
    {
     "data": {
      "image/png": "[encoded data removed]",
      "text/plain": [
       "<Figure size 600x400 with 1 Axes>"
      ]
     },
     "metadata": {},
     "output_type": "display_data"
    }
   ],
   "source": [
    "without_Lunch_Scores = np.hstack([without_Lunch['math_score'] ,without_Lunch['reading_score'] ,without_Lunch['writing_score']])\n",
    "\n",
    "plt.figure(figsize=(6, 4))\n",
    "plt.boxplot([without_Lunch_Scores], labels=['Student Scores'], showmeans=True)\n",
    "plt.title('Scores for Students without Lunch')\n",
    "plt.ylabel('Score')\n",
    "plt.grid(True)\n",
    "plt.show()"
   ]
  },
  {
   "cell_type": "code",
   "execution_count": 144,
   "id": "8d6c490b-f279-4221-a38b-2c7f3e5f428a",
   "metadata": {},
   "outputs": [
    {
     "name": "stdout",
     "output_type": "stream",
     "text": [
      "Kolmogorov-Smirnov Test:\n",
      "Test Statistic: 0.03362584964891635\n",
      "P-value: 0.1757943009770907\n",
      "The scores Follow A Normal Distribution\n"
     ]
    }
   ],
   "source": [
    "# Perform the Kolmogorov-Smirnov test\n",
    "without_Lunch_kstest_result = kstest(without_Lunch_Scores , 'norm' , args=(without_Lunch_Scores.mean(), without_Lunch_Scores.std()))\n",
    "\n",
    "# Get the test statistic and p-value\n",
    "without_Lunch_test_statistic = without_Lunch_kstest_result.statistic\n",
    "without_Lunch_p_value = without_Lunch_kstest_result.pvalue\n",
    "\n",
    "# Print the result\n",
    "print(\"Kolmogorov-Smirnov Test:\")\n",
    "print(f\"Test Statistic: {without_Lunch_test_statistic}\")\n",
    "print(f\"P-value: {without_Lunch_p_value}\")\n",
    "\n",
    "# Check if the scores follow a normal distribution\n",
    "Alpha = 0.05\n",
    "if without_Lunch_p_value < Alpha:\n",
    "    print(\"The scores Do Not Follow A Normal Distribution\")\n",
    "else:\n",
    "    print(\"The scores Follow A Normal Distribution\")"
   ]
  },
  {
   "cell_type": "markdown",
   "id": "3852a86c-b5d5-43c0-b242-0f6afbe5383f",
   "metadata": {},
   "source": [
    "<span style=\"font-size: 28pt; font-weight: bold; color:plum\">İki Anakütle Oranının Z testi</span>"
   ]
  },
  {
   "cell_type": "markdown",
   "id": "c0493079-6017-48c9-a711-993c7e733f19",
   "metadata": {},
   "source": [
    "<span style=\"font-size: 20pt; \">.   ilk olarak her anakütleden örneklem alıp onun oranı hesaplarız</span>"
   ]
  },
  {
   "cell_type": "code",
   "execution_count": 145,
   "id": "04891582-3bd4-4a5a-996a-af98874c5402",
   "metadata": {},
   "outputs": [
    {
     "data": {
      "text/markdown": [
       "<span style='font-size:15px;'> Number of samples for Students with lunch: 300 \n",
       "</span>"
      ],
      "text/plain": [
       "<IPython.core.display.Markdown object>"
      ]
     },
     "metadata": {},
     "output_type": "display_data"
    },
    {
     "data": {
      "text/markdown": [
       "<span style='font-size:15px;'> Number of samples for Students without lunch: 300 \n",
       "</span>"
      ],
      "text/plain": [
       "<IPython.core.display.Markdown object>"
      ]
     },
     "metadata": {},
     "output_type": "display_data"
    }
   ],
   "source": [
    "n1 = with_Lunch.sample(n=300, random_state=1)\n",
    "display(Markdown(f\"<span style='font-size:15px;'> Number of samples for Students with lunch: {len(n1)} \\n</span>\"))\n",
    "\n",
    "n2 = without_Lunch.sample(n=300, random_state=1)\n",
    "display(Markdown(f\"<span style='font-size:15px;'> Number of samples for Students without lunch: {len(n2)} \\n</span>\"))"
   ]
  },
  {
   "cell_type": "code",
   "execution_count": 146,
   "id": "12998ec6-5cb5-4bc1-964f-893911ffef86",
   "metadata": {},
   "outputs": [
    {
     "name": "stdout",
     "output_type": "stream",
     "text": [
      "Median score: 68.0\n"
     ]
    }
   ],
   "source": [
    "Scores = np.hstack([dataset['math_score'], dataset['reading_score'], dataset['writing_score']])\n",
    "median_score = np.median(Scores)\n",
    "print(\"Median score:\", median_score)"
   ]
  },
  {
   "cell_type": "code",
   "execution_count": 147,
   "id": "8ea046df-287a-4dcf-99d2-30b2add9089d",
   "metadata": {},
   "outputs": [
    {
     "data": {
      "text/markdown": [
       "Number of students who eat lunch before test and got a good grade in at least one of the three subjects <span style='font-size:16px;'>(x1) :217</span>"
      ],
      "text/plain": [
       "<IPython.core.display.Markdown object>"
      ]
     },
     "metadata": {},
     "output_type": "display_data"
    }
   ],
   "source": [
    "full_marks_with_Lunch = n1[\n",
    "    (n1['math_score'] >= median_score) |\n",
    "    (n1['reading_score'] >= median_score) |\n",
    "    (n1['writing_score'] >= median_score)\n",
    "]\n",
    "\n",
    "# Count the number of students\n",
    "x1 = len(full_marks_with_Lunch)\n",
    "display(Markdown(f\"Number of students who eat lunch before test and got a good grade in at least one of the three subjects <span style='font-size:16px;'>(x1) :{x1}</span>\"))"
   ]
  },
  {
   "cell_type": "code",
   "execution_count": 148,
   "id": "782cf3bf-4357-4b68-99ef-d5a0521ad855",
   "metadata": {},
   "outputs": [
    {
     "data": {
      "text/markdown": [
       "Number of students who didn't eat lunch before test and sgot a good grade in at least one of the three subjects <span style='font-size:16px;'>(x2) :143</span>"
      ],
      "text/plain": [
       "<IPython.core.display.Markdown object>"
      ]
     },
     "metadata": {},
     "output_type": "display_data"
    }
   ],
   "source": [
    "full_marks_without_Lunch = n2[\n",
    "    (n2['math_score'] >= median_score) |\n",
    "    (n2['reading_score'] >= median_score) |\n",
    "    (n2['writing_score'] >= median_score)\n",
    "]\n",
    "\n",
    "# Count the number of students\n",
    "x2 = len(full_marks_without_Lunch)\n",
    "display(Markdown(f\"Number of students who didn't eat lunch before test and sgot a good grade in at least one of the three subjects <span style='font-size:16px;'>(x2) :{x2}</span>\"))"
   ]
  },
  {
   "cell_type": "markdown",
   "id": "cda4e57c-c03b-429f-9217-9b776c11cb30",
   "metadata": {},
   "source": [
    "<span style=\"font-size: 20pt; \">Sonra hipotezler kurup Z test uygulanırız</span>"
   ]
  },
  {
   "cell_type": "code",
   "execution_count": 149,
   "id": "841c7f6c-83f2-4909-96dc-a66fe651d80f",
   "metadata": {},
   "outputs": [
    {
     "name": "stdout",
     "output_type": "stream",
     "text": [
      "z-test Score: 6.166666666666667, p-value: 3.4872282099280545e-10\n"
     ]
    },
    {
     "data": {
      "text/markdown": [
       "<span style='font-size:15px;'>.  Boş Hipotez Reddet ; P1 > P2</span>"
      ],
      "text/plain": [
       "<IPython.core.display.Markdown object>"
      ]
     },
     "metadata": {},
     "output_type": "display_data"
    }
   ],
   "source": [
    "# H0: The percentage of students who ate a lunch and got a good grade is EQAL to the percentage of those who did not eat it\n",
    "# H0 : P1 = P2\n",
    "# H1: The percentage of students who ate a lunch and got a good grade is GREATER than the percentage of those who did not eat it\n",
    "# H1 : P1 > P2\n",
    "# 0.05 Anlam düzeyle\n",
    "\n",
    "from statsmodels.stats.proportion import proportions_ztest\n",
    "\n",
    "count  = np.array([x1, x2])\n",
    "nobs = np.array([300, 300])\n",
    "ztest_Score, p_value = proportions_ztest(count, nobs, alternative = \"larger\")\n",
    "print(f\"z-test Score: {ztest_Score}, p-value: {p_value}\")\n",
    "\n",
    "anlamlik_deger = 0.05\n",
    "if ( p_value < anlamlik_deger) :\n",
    "    display(Markdown(f\"<span style='font-size:15px;'>.  Boş Hipotez Reddet ; P1 > P2</span>\"))\n",
    "else :\n",
    "    display(Markdown(f\"<span style='font-size:15px;'>.  Boş Hipotez Ret Edilmez; P1 = P2</span>\"))"
   ]
  },
  {
   "cell_type": "markdown",
   "id": "2e1bcdec-f14e-452b-a572-be4edbfb477c",
   "metadata": {},
   "source": [
    "<span style=\"font-size: 22pt; font-weight: bold;\">Sınav hazırlığı faktörü</span>"
   ]
  },
  {
   "cell_type": "code",
   "execution_count": 150,
   "id": "30b5cb01-d8cd-457b-a972-71efcda124bd",
   "metadata": {},
   "outputs": [
    {
     "data": {
      "text/markdown": [
       "<span style='font-size:15px;'>Students who prepared for test: \n",
       "</span>"
      ],
      "text/plain": [
       "<IPython.core.display.Markdown object>"
      ]
     },
     "metadata": {},
     "output_type": "display_data"
    },
    {
     "data": {
      "text/html": [
       "<div>\n",
       "<style scoped>\n",
       "    .dataframe tbody tr th:only-of-type {\n",
       "        vertical-align: middle;\n",
       "    }\n",
       "\n",
       "    .dataframe tbody tr th {\n",
       "        vertical-align: top;\n",
       "    }\n",
       "\n",
       "    .dataframe thead th {\n",
       "        text-align: right;\n",
       "    }\n",
       "</style>\n",
       "<table border=\"1\" class=\"dataframe\">\n",
       "  <thead>\n",
       "    <tr style=\"text-align: right;\">\n",
       "      <th></th>\n",
       "      <th>test_preparation_course</th>\n",
       "      <th>math_score</th>\n",
       "      <th>reading_score</th>\n",
       "      <th>writing_score</th>\n",
       "    </tr>\n",
       "  </thead>\n",
       "  <tbody>\n",
       "    <tr>\n",
       "      <th>1</th>\n",
       "      <td>completed</td>\n",
       "      <td>69.0</td>\n",
       "      <td>90.0</td>\n",
       "      <td>88.000000</td>\n",
       "    </tr>\n",
       "    <tr>\n",
       "      <th>6</th>\n",
       "      <td>completed</td>\n",
       "      <td>88.0</td>\n",
       "      <td>95.0</td>\n",
       "      <td>92.000000</td>\n",
       "    </tr>\n",
       "    <tr>\n",
       "      <th>8</th>\n",
       "      <td>completed</td>\n",
       "      <td>64.0</td>\n",
       "      <td>64.0</td>\n",
       "      <td>67.000000</td>\n",
       "    </tr>\n",
       "    <tr>\n",
       "      <th>13</th>\n",
       "      <td>completed</td>\n",
       "      <td>78.0</td>\n",
       "      <td>72.0</td>\n",
       "      <td>70.000000</td>\n",
       "    </tr>\n",
       "    <tr>\n",
       "      <th>18</th>\n",
       "      <td>completed</td>\n",
       "      <td>46.0</td>\n",
       "      <td>42.0</td>\n",
       "      <td>46.000000</td>\n",
       "    </tr>\n",
       "    <tr>\n",
       "      <th>...</th>\n",
       "      <td>...</td>\n",
       "      <td>...</td>\n",
       "      <td>...</td>\n",
       "      <td>...</td>\n",
       "    </tr>\n",
       "    <tr>\n",
       "      <th>990</th>\n",
       "      <td>completed</td>\n",
       "      <td>86.0</td>\n",
       "      <td>81.0</td>\n",
       "      <td>75.000000</td>\n",
       "    </tr>\n",
       "    <tr>\n",
       "      <th>991</th>\n",
       "      <td>completed</td>\n",
       "      <td>65.0</td>\n",
       "      <td>82.0</td>\n",
       "      <td>78.000000</td>\n",
       "    </tr>\n",
       "    <tr>\n",
       "      <th>995</th>\n",
       "      <td>completed</td>\n",
       "      <td>88.0</td>\n",
       "      <td>99.0</td>\n",
       "      <td>68.012024</td>\n",
       "    </tr>\n",
       "    <tr>\n",
       "      <th>997</th>\n",
       "      <td>completed</td>\n",
       "      <td>59.0</td>\n",
       "      <td>71.0</td>\n",
       "      <td>65.000000</td>\n",
       "    </tr>\n",
       "    <tr>\n",
       "      <th>998</th>\n",
       "      <td>completed</td>\n",
       "      <td>68.0</td>\n",
       "      <td>78.0</td>\n",
       "      <td>77.000000</td>\n",
       "    </tr>\n",
       "  </tbody>\n",
       "</table>\n",
       "<p>358 rows × 4 columns</p>\n",
       "</div>"
      ],
      "text/plain": [
       "    test_preparation_course  math_score  reading_score  writing_score\n",
       "1                 completed        69.0           90.0      88.000000\n",
       "6                 completed        88.0           95.0      92.000000\n",
       "8                 completed        64.0           64.0      67.000000\n",
       "13                completed        78.0           72.0      70.000000\n",
       "18                completed        46.0           42.0      46.000000\n",
       "..                      ...         ...            ...            ...\n",
       "990               completed        86.0           81.0      75.000000\n",
       "991               completed        65.0           82.0      78.000000\n",
       "995               completed        88.0           99.0      68.012024\n",
       "997               completed        59.0           71.0      65.000000\n",
       "998               completed        68.0           78.0      77.000000\n",
       "\n",
       "[358 rows x 4 columns]"
      ]
     },
     "metadata": {},
     "output_type": "display_data"
    },
    {
     "data": {
      "text/markdown": [
       "<span style='font-size:15px;'>\n",
       " Students who didn't prepare for test: \n",
       "</span>"
      ],
      "text/plain": [
       "<IPython.core.display.Markdown object>"
      ]
     },
     "metadata": {},
     "output_type": "display_data"
    },
    {
     "data": {
      "text/html": [
       "<div>\n",
       "<style scoped>\n",
       "    .dataframe tbody tr th:only-of-type {\n",
       "        vertical-align: middle;\n",
       "    }\n",
       "\n",
       "    .dataframe tbody tr th {\n",
       "        vertical-align: top;\n",
       "    }\n",
       "\n",
       "    .dataframe thead th {\n",
       "        text-align: right;\n",
       "    }\n",
       "</style>\n",
       "<table border=\"1\" class=\"dataframe\">\n",
       "  <thead>\n",
       "    <tr style=\"text-align: right;\">\n",
       "      <th></th>\n",
       "      <th>test_preparation_course</th>\n",
       "      <th>math_score</th>\n",
       "      <th>reading_score</th>\n",
       "      <th>writing_score</th>\n",
       "    </tr>\n",
       "  </thead>\n",
       "  <tbody>\n",
       "    <tr>\n",
       "      <th>0</th>\n",
       "      <td>none</td>\n",
       "      <td>72.000000</td>\n",
       "      <td>72.0</td>\n",
       "      <td>74.0</td>\n",
       "    </tr>\n",
       "    <tr>\n",
       "      <th>2</th>\n",
       "      <td>none</td>\n",
       "      <td>66.065065</td>\n",
       "      <td>95.0</td>\n",
       "      <td>93.0</td>\n",
       "    </tr>\n",
       "    <tr>\n",
       "      <th>3</th>\n",
       "      <td>none</td>\n",
       "      <td>47.000000</td>\n",
       "      <td>57.0</td>\n",
       "      <td>44.0</td>\n",
       "    </tr>\n",
       "    <tr>\n",
       "      <th>4</th>\n",
       "      <td>none</td>\n",
       "      <td>76.000000</td>\n",
       "      <td>78.0</td>\n",
       "      <td>75.0</td>\n",
       "    </tr>\n",
       "    <tr>\n",
       "      <th>5</th>\n",
       "      <td>none</td>\n",
       "      <td>71.000000</td>\n",
       "      <td>83.0</td>\n",
       "      <td>78.0</td>\n",
       "    </tr>\n",
       "    <tr>\n",
       "      <th>...</th>\n",
       "      <td>...</td>\n",
       "      <td>...</td>\n",
       "      <td>...</td>\n",
       "      <td>...</td>\n",
       "    </tr>\n",
       "    <tr>\n",
       "      <th>992</th>\n",
       "      <td>none</td>\n",
       "      <td>55.000000</td>\n",
       "      <td>76.0</td>\n",
       "      <td>76.0</td>\n",
       "    </tr>\n",
       "    <tr>\n",
       "      <th>993</th>\n",
       "      <td>none</td>\n",
       "      <td>62.000000</td>\n",
       "      <td>72.0</td>\n",
       "      <td>74.0</td>\n",
       "    </tr>\n",
       "    <tr>\n",
       "      <th>994</th>\n",
       "      <td>none</td>\n",
       "      <td>63.000000</td>\n",
       "      <td>63.0</td>\n",
       "      <td>62.0</td>\n",
       "    </tr>\n",
       "    <tr>\n",
       "      <th>996</th>\n",
       "      <td>none</td>\n",
       "      <td>62.000000</td>\n",
       "      <td>55.0</td>\n",
       "      <td>55.0</td>\n",
       "    </tr>\n",
       "    <tr>\n",
       "      <th>999</th>\n",
       "      <td>none</td>\n",
       "      <td>77.000000</td>\n",
       "      <td>86.0</td>\n",
       "      <td>86.0</td>\n",
       "    </tr>\n",
       "  </tbody>\n",
       "</table>\n",
       "<p>642 rows × 4 columns</p>\n",
       "</div>"
      ],
      "text/plain": [
       "    test_preparation_course  math_score  reading_score  writing_score\n",
       "0                      none   72.000000           72.0           74.0\n",
       "2                      none   66.065065           95.0           93.0\n",
       "3                      none   47.000000           57.0           44.0\n",
       "4                      none   76.000000           78.0           75.0\n",
       "5                      none   71.000000           83.0           78.0\n",
       "..                      ...         ...            ...            ...\n",
       "992                    none   55.000000           76.0           76.0\n",
       "993                    none   62.000000           72.0           74.0\n",
       "994                    none   63.000000           63.0           62.0\n",
       "996                    none   62.000000           55.0           55.0\n",
       "999                    none   77.000000           86.0           86.0\n",
       "\n",
       "[642 rows x 4 columns]"
      ]
     },
     "metadata": {},
     "output_type": "display_data"
    }
   ],
   "source": [
    "Prepared = dataset[dataset['test_preparation_course'] == 'completed']\n",
    "Nonprepared = dataset[dataset['test_preparation_course'] == 'none']\n",
    "\n",
    "display(Markdown(f\"<span style='font-size:15px;'>Students who prepared for test: \\n</span>\"))\n",
    "display(Prepared[ ['test_preparation_course' , 'math_score' , 'reading_score' , 'writing_score'] ])\n",
    "display(Markdown(f\"<span style='font-size:15px;'>\\n Students who didn't prepare for test: \\n</span>\"))\n",
    "display(Nonprepared[ ['test_preparation_course' , 'math_score' , 'reading_score' , 'writing_score'] ])"
   ]
  },
  {
   "cell_type": "markdown",
   "id": "65c900bf-c781-4dae-8b07-3bd4d4ac7171",
   "metadata": {},
   "source": [
    "<span style=\"font-size: 23pt; font-weight: bold; color:plum\">Q-Q Plot ve Shapiro-Wilk Test </span>"
   ]
  },
  {
   "cell_type": "code",
   "execution_count": 151,
   "id": "574d9b42-9b63-43c5-8f51-1c2744d6639f",
   "metadata": {},
   "outputs": [
    {
     "data": {
      "image/png": "[encoded data removed]",
      "text/plain": [
       "<Figure size 640x480 with 1 Axes>"
      ]
     },
     "metadata": {},
     "output_type": "display_data"
    }
   ],
   "source": [
    "import statsmodels.api as sm\n",
    "\n",
    "Prepared_Scores = np.hstack([Prepared['math_score'].sample(n=10, random_state=1) ,Prepared['reading_score'].sample(n=10, random_state=1) ,Prepared['writing_score'].sample(n=9, random_state=1)])\n",
    "\n",
    "sm.qqplot(Prepared_Scores, line='s')\n",
    "plt.title(\"Q-Q Plot for Student's scores who prepare for test\")\n",
    "plt.show()"
   ]
  },
  {
   "cell_type": "code",
   "execution_count": 152,
   "id": "abaa268d-3d71-4956-9e40-85d99e838334",
   "metadata": {},
   "outputs": [
    {
     "name": "stdout",
     "output_type": "stream",
     "text": [
      "Shapiro-Wilk test -> statistic: 0.9530699253082275, p-value: 0.2197362333536148\n",
      "The scores of the students who prepared for test Show A Normal Distribution\n"
     ]
    }
   ],
   "source": [
    "from scipy.stats import shapiro\n",
    "\n",
    "statistic, p_value1 = shapiro(Prepared_Scores)\n",
    "print(f\"Shapiro-Wilk test -> statistic: {statistic}, p-value: {p_value1}\")\n",
    "\n",
    "if (p_value1 < 0.05) :\n",
    "    print (\"The scores of the students who prepared for test Doesn't Show A Normal Distribution\")\n",
    "else : \n",
    "    print (\"The scores of the students who prepared for test Show A Normal Distribution\")"
   ]
  },
  {
   "cell_type": "code",
   "execution_count": 153,
   "id": "dc4baf40-a8c6-4732-9e12-cfa837266c00",
   "metadata": {},
   "outputs": [
    {
     "data": {
      "image/png": "[encoded data removed]",
      "text/plain": [
       "<Figure size 640x480 with 1 Axes>"
      ]
     },
     "metadata": {},
     "output_type": "display_data"
    }
   ],
   "source": [
    "Nonprepared_Scores = np.hstack([Nonprepared['math_score'].sample(n=10, random_state=3) ,Nonprepared['reading_score'].sample(n=10, random_state=3) ,Nonprepared['writing_score'].sample(n=9, random_state=3)])\n",
    "\n",
    "sm.qqplot(Nonprepared_Scores, line='s')\n",
    "plt.title(\"Q-Q Plot for Student's scores who didn't prepare for test\")\n",
    "plt.show()"
   ]
  },
  {
   "cell_type": "code",
   "execution_count": 154,
   "id": "363865c3-b695-4da9-9e7e-c77a11bd1614",
   "metadata": {},
   "outputs": [
    {
     "name": "stdout",
     "output_type": "stream",
     "text": [
      "Shapiro-Wilk test -> statistic: 0.9580618143081665, p-value: 0.29424169659614563\n",
      "The scores of the students who prepared for test Show A Normal Distribution\n"
     ]
    }
   ],
   "source": [
    "statistic, p_value1 = shapiro(Nonprepared_Scores)\n",
    "print(f\"Shapiro-Wilk test -> statistic: {statistic}, p-value: {p_value1}\")\n",
    "\n",
    "if (p_value1 < 0.05) :\n",
    "    print (\"The scores of the students who prepared for test Doesn't Show A Normal Distribution\")\n",
    "else : \n",
    "    print (\"The scores of the students who prepared for test Show A Normal Distribution\")"
   ]
  },
  {
   "cell_type": "markdown",
   "id": "a645e7a9-6576-4313-af8d-11b42b82d35f",
   "metadata": {},
   "source": [
    "<span style=\"font-size: 23pt; font-weight: bold; color:plum\">Tek Örneklem T-Test</span>"
   ]
  },
  {
   "cell_type": "code",
   "execution_count": 157,
   "id": "7f1d45ea-8ff8-4d04-bd22-4da39ec569a6",
   "metadata": {},
   "outputs": [
    {
     "name": "stdout",
     "output_type": "stream",
     "text": [
      "Mean score (μ0) = 67.75342409878148\n"
     ]
    }
   ],
   "source": [
    "# H0: The mean of students who prepared for test is EQAL to the average grades\n",
    "# H0 : μ = μ0\n",
    "# H1: The mean of students who prepared for test is GREATER than the average grades\n",
    "# H1 : μ > μ0\n",
    "\n",
    "# Calculate the AVARAGE GRADES\n",
    "Scores = np.hstack([dataset['math_score'], dataset['reading_score'], dataset['writing_score']])\n",
    "μ = np.mean(Scores)\n",
    "print(\"Mean score (μ0) =\", μ)"
   ]
  },
  {
   "cell_type": "code",
   "execution_count": 156,
   "id": "0a44e10d-8d29-493f-a184-cad6b07e5517",
   "metadata": {},
   "outputs": [
    {
     "name": "stdout",
     "output_type": "stream",
     "text": [
      "t-statistic: 2.0777485378450904\n",
      "p-value: 0.047018260380353005\n"
     ]
    },
    {
     "data": {
      "text/markdown": [
       "<span style='font-size:15px;'>.  Boş Hipotez Reddet ; μ > μ0</span>"
      ],
      "text/plain": [
       "<IPython.core.display.Markdown object>"
      ]
     },
     "metadata": {},
     "output_type": "display_data"
    }
   ],
   "source": [
    "t_statistic, p_value = stats.ttest_1samp( Prepared_Scores , μ)\n",
    "print(\"t-statistic:\", t_statistic)\n",
    "print(\"p-value:\", p_value)\n",
    "\n",
    "anlamlik_deger = 0.05\n",
    "if ( p_value < anlamlik_deger) :\n",
    "    display(Markdown(f\"<span style='font-size:15px;'>.  Boş Hipotez Reddet ; μ > μ0</span>\"))\n",
    "else :\n",
    "    display(Markdown(f\"<span style='font-size:15px;'>.  Boş Hipotez Ret Edilmez ; μ = μ0</span>\"))"
   ]
  },
  {
   "cell_type": "code",
   "execution_count": null,
   "id": "05cba07f-e97a-4c41-9eee-315bf3e9c299",
   "metadata": {},
   "outputs": [],
   "source": []
  }
 ],
 "metadata": {
  "kernelspec": {
   "display_name": "Python 3 (ipykernel)",
   "language": "python",
   "name": "python3"
  },
  "language_info": {
   "codemirror_mode": {
    "name": "ipython",
    "version": 3
   },
   "file_extension": ".py",
   "mimetype": "text/x-python",
   "name": "python",
   "nbconvert_exporter": "python",
   "pygments_lexer": "ipython3",
   "version": "3.11.7"
  }
 },
 "nbformat": 4,
 "nbformat_minor": 5
}
